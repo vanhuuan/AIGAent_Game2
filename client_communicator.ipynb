{
 "cells": [
  {
   "cell_type": "code",
   "id": "83376b53-adc1-4378-a186-5f52d8a840fd",
   "metadata": {
    "scrolled": true,
    "ExecuteTime": {
     "end_time": "2025-06-16T09:43:26.947378Z",
     "start_time": "2025-06-16T09:43:26.424150Z"
    }
   },
   "source": [
    "from dotenv import load_dotenv\n",
    "from message import Message"
   ],
   "outputs": [],
   "execution_count": 2
  },
  {
   "cell_type": "code",
   "id": "5f245489-42ef-4c84-af50-acd504e91eb8",
   "metadata": {
    "ExecuteTime": {
     "end_time": "2025-06-16T09:43:27.556866Z",
     "start_time": "2025-06-16T09:43:27.548351Z"
    }
   },
   "source": [
    "load_dotenv('./.env',override=True)"
   ],
   "outputs": [
    {
     "data": {
      "text/plain": [
       "True"
      ]
     },
     "execution_count": 3,
     "metadata": {},
     "output_type": "execute_result"
    }
   ],
   "execution_count": 3
  },
  {
   "cell_type": "code",
   "id": "120c3456-bb94-4982-a526-7f93fd2b5c7d",
   "metadata": {
    "ExecuteTime": {
     "end_time": "2025-06-16T09:43:28.555433Z",
     "start_time": "2025-06-16T09:43:28.444513Z"
    }
   },
   "source": [
    "from client import Client\n",
    "import os\n",
    "from logs import log\n",
    "import socket\n",
    "from utils import send, receive \n",
    "\n",
    "class ClientCommunicator():\n",
    "    def __init__(self, host=None, port=None):\n",
    "\n",
    "        self.host = host or os.environ.get('SERVER', '0.0.0.0')\n",
    "        self.port = port or int(os.environ.get('PORT', 4444))\n",
    "\n",
    "        log(f'Listern to {self.host}:{self.port}', '[CLIENT]')\n",
    "        \n",
    "        self.other_players = {}\n",
    "\n",
    "        self.client_socket = socket.socket(socket.AF_INET, socket.SOCK_STREAM)\n",
    "        self.client_socket.connect((self.host, self.port))\n",
    "        self.message = self.receive_message()\n",
    "        log(f\"Receive client from server: {self.message}\", '[Dispatcher]')\n",
    "\n",
    "    def send_message(self, msg: Message):\n",
    "        send(self.client_socket, msg)\n",
    "\n",
    "    def receive_message(self):\n",
    "        return receive(self.client_socket)\n",
    "        "
   ],
   "outputs": [
    {
     "name": "stdout",
     "output_type": "stream",
     "text": [
      "pygame 2.6.1 (SDL 2.28.4, Python 3.11.4)\n",
      "Hello from the pygame community. https://www.pygame.org/contribute.html\n"
     ]
    }
   ],
   "execution_count": 4
  },
  {
   "cell_type": "code",
   "id": "cfaf5511-7af0-4563-aba6-e2bd001f8c3a",
   "metadata": {
    "scrolled": true,
    "ExecuteTime": {
     "end_time": "2025-06-17T09:52:20.034658Z",
     "start_time": "2025-06-17T09:52:19.523525Z"
    }
   },
   "source": "c = ClientCommunicator()",
   "outputs": [
    {
     "data": {
      "text/plain": [
       "\u001B[2;36m[16:52:19]\u001B[0m\u001B[2;36m \u001B[0m\u001B[1;35m[\u001B[0m\u001B[1;35mCLIENT\u001B[0m\u001B[1;35m]\u001B[0m Listern to localhost:\u001B[1;36m8080\u001B[0m                                                            \u001B[2mlogs.py\u001B[0m\u001B[2m:\u001B[0m\u001B[2m11\u001B[0m\n"
      ],
      "text/html": [
       "<pre style=\"white-space:pre;overflow-x:auto;line-height:normal;font-family:Menlo,'DejaVu Sans Mono',consolas,'Courier New',monospace\"><span style=\"color: #7fbfbf; text-decoration-color: #7fbfbf\">[16:52:19] </span><span style=\"color: #800080; text-decoration-color: #800080; font-weight: bold\">[CLIENT]</span> Listern to localhost:<span style=\"color: #008080; text-decoration-color: #008080; font-weight: bold\">8080</span>                                                            <span style=\"color: #7f7f7f; text-decoration-color: #7f7f7f\">logs.py:11</span>\n",
       "</pre>\n"
      ]
     },
     "metadata": {},
     "output_type": "display_data"
    },
    {
     "data": {
      "text/plain": [
       "\u001B[2;36m[16:52:20]\u001B[0m\u001B[2;36m \u001B[0m\u001B[1;35m[\u001B[0m\u001B[1;35mDispatcher\u001B[0m\u001B[1;35m]\u001B[0m Receive client from server: Connected                                            \u001B[2mlogs.py\u001B[0m\u001B[2m:\u001B[0m\u001B[2m11\u001B[0m\n"
      ],
      "text/html": [
       "<pre style=\"white-space:pre;overflow-x:auto;line-height:normal;font-family:Menlo,'DejaVu Sans Mono',consolas,'Courier New',monospace\"><span style=\"color: #7fbfbf; text-decoration-color: #7fbfbf\">[16:52:20] </span><span style=\"color: #800080; text-decoration-color: #800080; font-weight: bold\">[Dispatcher]</span> Receive client from server: Connected                                            <span style=\"color: #7f7f7f; text-decoration-color: #7f7f7f\">logs.py:11</span>\n",
       "</pre>\n"
      ]
     },
     "metadata": {},
     "output_type": "display_data"
    }
   ],
   "execution_count": 105
  },
  {
   "cell_type": "markdown",
   "id": "63201bbc-64e1-4ebb-b3bd-60baffb06260",
   "metadata": {},
   "source": [
    "## Events"
   ]
  },
  {
   "cell_type": "code",
   "id": "e6ea90c4-3f10-42f2-b463-0ec87135159e",
   "metadata": {
    "ExecuteTime": {
     "end_time": "2025-06-17T09:52:20.973149Z",
     "start_time": "2025-06-17T09:52:20.969982Z"
    }
   },
   "source": [
    "from events import WinConditionEvent"
   ],
   "outputs": [],
   "execution_count": 106
  },
  {
   "cell_type": "markdown",
   "id": "b6d9083f-4ec0-494f-b141-5b099e5af480",
   "metadata": {},
   "source": [
    "### fire event"
   ]
  },
  {
   "cell_type": "code",
   "id": "b52cf79f",
   "metadata": {
    "ExecuteTime": {
     "end_time": "2025-06-17T09:52:40.649940Z",
     "start_time": "2025-06-17T09:52:40.645940Z"
    }
   },
   "source": [
    "c.send_message(WinConditionEvent(fabric=2, wood=2, fabric_to_cotton_ratio=2))"
   ],
   "outputs": [],
   "execution_count": 107
  },
  {
   "cell_type": "code",
   "execution_count": null,
   "id": "9335be34",
   "metadata": {},
   "outputs": [],
   "source": []
  }
 ],
 "metadata": {
  "kernelspec": {
   "display_name": ".venv",
   "language": "python",
   "name": "python3"
  },
  "language_info": {
   "codemirror_mode": {
    "name": "ipython",
    "version": 3
   },
   "file_extension": ".py",
   "mimetype": "text/x-python",
   "name": "python",
   "nbconvert_exporter": "python",
   "pygments_lexer": "ipython3",
   "version": "3.13.3"
  }
 },
 "nbformat": 4,
 "nbformat_minor": 5
}
