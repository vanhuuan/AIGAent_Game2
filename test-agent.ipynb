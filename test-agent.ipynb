{
 "cells": [
  {
   "cell_type": "markdown",
   "id": "4d400959-eb7c-4ba0-b34f-d01ad4616e12",
   "metadata": {},
   "source": [
    "# Buil Game Agent"
   ]
  },
  {
   "cell_type": "markdown",
   "id": "be42693c-bac8-4ba1-b67b-1e7c8a9126e2",
   "metadata": {},
   "source": [
    "## Import libraries"
   ]
  },
  {
   "cell_type": "code",
   "execution_count": null,
   "id": "0306fea2",
   "metadata": {},
   "outputs": [],
   "source": [
    "# !uv add pydantic_graph mermaid-python"
   ]
  },
  {
   "cell_type": "code",
   "id": "c423e1a9-89f5-4a69-86b5-c55b449280ad",
   "metadata": {
    "ExecuteTime": {
     "end_time": "2025-06-02T09:40:50.813395Z",
     "start_time": "2025-06-02T09:40:47.148127Z"
    }
   },
   "source": [
    "from dotenv import load_dotenv\n",
    "from config import Config\n",
    "from pydantic import BaseModel, ConfigDict\n",
    "from pydantic_ai.usage import Usage, UsageLimits\n",
    "from pydantic_ai import ModelRetry\n",
    "from player import Player\n",
    "import numpy as np\n",
    "from dataclasses import dataclass, field\n",
    "from collections import deque\n",
    "import logfire\n",
    "\n",
    "from client import Client\n",
    "\n",
    "\n",
    "logfire.configure()  \n",
    "logfire.instrument_pydantic_ai()  \n",
    "\n",
    "import nest_asyncio\n",
    "nest_asyncio.apply()"
   ],
   "outputs": [
    {
     "name": "stdout",
     "output_type": "stream",
     "text": [
      "pygame 2.6.1 (SDL 2.28.4, Python 3.12.10)\n",
      "Hello from the pygame community. https://www.pygame.org/contribute.html\n",
      "No Logfire project credentials found.\n",
      "All data sent to Logfire must be associated with a project.\n",
      "\n"
     ]
    },
    {
     "ename": "LogfireConfigError",
     "evalue": "You are not authenticated. Please run `logfire auth` to authenticate.\n\nIf you are running in production, you can set the `LOGFIRE_TOKEN` environment variable.\nTo create a write token, refer to https://logfire.pydantic.dev/docs/guides/advanced/creating_write_tokens/\n",
     "output_type": "error",
     "traceback": [
      "\u001B[31m---------------------------------------------------------------------------\u001B[39m",
      "\u001B[31mLogfireConfigError\u001B[39m                        Traceback (most recent call last)",
      "\u001B[36mCell\u001B[39m\u001B[36m \u001B[39m\u001B[32mIn[2]\u001B[39m\u001B[32m, line 15\u001B[39m\n\u001B[32m     10\u001B[39m \u001B[38;5;28;01mimport\u001B[39;00m\u001B[38;5;250m \u001B[39m\u001B[34;01mlogfire\u001B[39;00m\n\u001B[32m     12\u001B[39m \u001B[38;5;28;01mfrom\u001B[39;00m\u001B[38;5;250m \u001B[39m\u001B[34;01mclient\u001B[39;00m\u001B[38;5;250m \u001B[39m\u001B[38;5;28;01mimport\u001B[39;00m Client\n\u001B[32m---> \u001B[39m\u001B[32m15\u001B[39m \u001B[43mlogfire\u001B[49m\u001B[43m.\u001B[49m\u001B[43mconfigure\u001B[49m\u001B[43m(\u001B[49m\u001B[43m)\u001B[49m  \n\u001B[32m     16\u001B[39m logfire.instrument_pydantic_ai()  \n\u001B[32m     18\u001B[39m \u001B[38;5;28;01mimport\u001B[39;00m\u001B[38;5;250m \u001B[39m\u001B[34;01mnest_asyncio\u001B[39;00m\n",
      "\u001B[36mFile \u001B[39m\u001B[32mD:\\AI Agent\\Rules of Survaival\\venv\\Lib\\site-packages\\logfire\\_internal\\config.py:459\u001B[39m, in \u001B[36mconfigure\u001B[39m\u001B[34m(local, send_to_logfire, token, service_name, service_version, environment, console, config_dir, data_dir, additional_span_processors, metrics, scrubbing, inspect_arguments, sampling, code_source, distributed_tracing, advanced, **deprecated_kwargs)\u001B[39m\n\u001B[32m    457\u001B[39m \u001B[38;5;28;01melse\u001B[39;00m:\n\u001B[32m    458\u001B[39m     config = GLOBAL_CONFIG\n\u001B[32m--> \u001B[39m\u001B[32m459\u001B[39m \u001B[43mconfig\u001B[49m\u001B[43m.\u001B[49m\u001B[43mconfigure\u001B[49m\u001B[43m(\u001B[49m\n\u001B[32m    460\u001B[39m \u001B[43m    \u001B[49m\u001B[43msend_to_logfire\u001B[49m\u001B[43m=\u001B[49m\u001B[43msend_to_logfire\u001B[49m\u001B[43m,\u001B[49m\n\u001B[32m    461\u001B[39m \u001B[43m    \u001B[49m\u001B[43mtoken\u001B[49m\u001B[43m=\u001B[49m\u001B[43mtoken\u001B[49m\u001B[43m,\u001B[49m\n\u001B[32m    462\u001B[39m \u001B[43m    \u001B[49m\u001B[43mservice_name\u001B[49m\u001B[43m=\u001B[49m\u001B[43mservice_name\u001B[49m\u001B[43m,\u001B[49m\n\u001B[32m    463\u001B[39m \u001B[43m    \u001B[49m\u001B[43mservice_version\u001B[49m\u001B[43m=\u001B[49m\u001B[43mservice_version\u001B[49m\u001B[43m,\u001B[49m\n\u001B[32m    464\u001B[39m \u001B[43m    \u001B[49m\u001B[43menvironment\u001B[49m\u001B[43m=\u001B[49m\u001B[43menvironment\u001B[49m\u001B[43m,\u001B[49m\n\u001B[32m    465\u001B[39m \u001B[43m    \u001B[49m\u001B[43mconsole\u001B[49m\u001B[43m=\u001B[49m\u001B[43mconsole\u001B[49m\u001B[43m,\u001B[49m\n\u001B[32m    466\u001B[39m \u001B[43m    \u001B[49m\u001B[43mmetrics\u001B[49m\u001B[43m=\u001B[49m\u001B[43mmetrics\u001B[49m\u001B[43m,\u001B[49m\n\u001B[32m    467\u001B[39m \u001B[43m    \u001B[49m\u001B[43mconfig_dir\u001B[49m\u001B[43m=\u001B[49m\u001B[43mPath\u001B[49m\u001B[43m(\u001B[49m\u001B[43mconfig_dir\u001B[49m\u001B[43m)\u001B[49m\u001B[43m \u001B[49m\u001B[38;5;28;43;01mif\u001B[39;49;00m\u001B[43m \u001B[49m\u001B[43mconfig_dir\u001B[49m\u001B[43m \u001B[49m\u001B[38;5;28;43;01melse\u001B[39;49;00m\u001B[43m \u001B[49m\u001B[38;5;28;43;01mNone\u001B[39;49;00m\u001B[43m,\u001B[49m\n\u001B[32m    468\u001B[39m \u001B[43m    \u001B[49m\u001B[43mdata_dir\u001B[49m\u001B[43m=\u001B[49m\u001B[43mPath\u001B[49m\u001B[43m(\u001B[49m\u001B[43mdata_dir\u001B[49m\u001B[43m)\u001B[49m\u001B[43m \u001B[49m\u001B[38;5;28;43;01mif\u001B[39;49;00m\u001B[43m \u001B[49m\u001B[43mdata_dir\u001B[49m\u001B[43m \u001B[49m\u001B[38;5;28;43;01melse\u001B[39;49;00m\u001B[43m \u001B[49m\u001B[38;5;28;43;01mNone\u001B[39;49;00m\u001B[43m,\u001B[49m\n\u001B[32m    469\u001B[39m \u001B[43m    \u001B[49m\u001B[43madditional_span_processors\u001B[49m\u001B[43m=\u001B[49m\u001B[43madditional_span_processors\u001B[49m\u001B[43m,\u001B[49m\n\u001B[32m    470\u001B[39m \u001B[43m    \u001B[49m\u001B[43mscrubbing\u001B[49m\u001B[43m=\u001B[49m\u001B[43mscrubbing\u001B[49m\u001B[43m,\u001B[49m\n\u001B[32m    471\u001B[39m \u001B[43m    \u001B[49m\u001B[43minspect_arguments\u001B[49m\u001B[43m=\u001B[49m\u001B[43minspect_arguments\u001B[49m\u001B[43m,\u001B[49m\n\u001B[32m    472\u001B[39m \u001B[43m    \u001B[49m\u001B[43msampling\u001B[49m\u001B[43m=\u001B[49m\u001B[43msampling\u001B[49m\u001B[43m,\u001B[49m\n\u001B[32m    473\u001B[39m \u001B[43m    \u001B[49m\u001B[43mcode_source\u001B[49m\u001B[43m=\u001B[49m\u001B[43mcode_source\u001B[49m\u001B[43m,\u001B[49m\n\u001B[32m    474\u001B[39m \u001B[43m    \u001B[49m\u001B[43mdistributed_tracing\u001B[49m\u001B[43m=\u001B[49m\u001B[43mdistributed_tracing\u001B[49m\u001B[43m,\u001B[49m\n\u001B[32m    475\u001B[39m \u001B[43m    \u001B[49m\u001B[43madvanced\u001B[49m\u001B[43m=\u001B[49m\u001B[43madvanced\u001B[49m\u001B[43m,\u001B[49m\n\u001B[32m    476\u001B[39m \u001B[43m\u001B[49m\u001B[43m)\u001B[49m\n\u001B[32m    478\u001B[39m \u001B[38;5;28;01mif\u001B[39;00m local:\n\u001B[32m    479\u001B[39m     \u001B[38;5;28;01mreturn\u001B[39;00m Logfire(config=config)\n",
      "\u001B[36mFile \u001B[39m\u001B[32mD:\\AI Agent\\Rules of Survaival\\venv\\Lib\\site-packages\\logfire\\_internal\\config.py:755\u001B[39m, in \u001B[36mLogfireConfig.configure\u001B[39m\u001B[34m(self, send_to_logfire, token, service_name, service_version, environment, console, config_dir, data_dir, additional_span_processors, metrics, scrubbing, inspect_arguments, sampling, code_source, distributed_tracing, advanced)\u001B[39m\n\u001B[32m    736\u001B[39m \u001B[38;5;28mself\u001B[39m._initialized = \u001B[38;5;28;01mFalse\u001B[39;00m\n\u001B[32m    737\u001B[39m \u001B[38;5;28mself\u001B[39m._load_configuration(\n\u001B[32m    738\u001B[39m     send_to_logfire,\n\u001B[32m    739\u001B[39m     token,\n\u001B[32m   (...)\u001B[39m\u001B[32m    753\u001B[39m     advanced,\n\u001B[32m    754\u001B[39m )\n\u001B[32m--> \u001B[39m\u001B[32m755\u001B[39m \u001B[38;5;28;43mself\u001B[39;49m\u001B[43m.\u001B[49m\u001B[43minitialize\u001B[49m\u001B[43m(\u001B[49m\u001B[43m)\u001B[49m\n",
      "\u001B[36mFile \u001B[39m\u001B[32mD:\\AI Agent\\Rules of Survaival\\venv\\Lib\\site-packages\\logfire\\_internal\\config.py:760\u001B[39m, in \u001B[36mLogfireConfig.initialize\u001B[39m\u001B[34m(self)\u001B[39m\n\u001B[32m    758\u001B[39m \u001B[38;5;250m\u001B[39m\u001B[33;03m\"\"\"Configure internals to start exporting traces and metrics.\"\"\"\u001B[39;00m\n\u001B[32m    759\u001B[39m \u001B[38;5;28;01mwith\u001B[39;00m \u001B[38;5;28mself\u001B[39m._lock:\n\u001B[32m--> \u001B[39m\u001B[32m760\u001B[39m     \u001B[38;5;28;43mself\u001B[39;49m\u001B[43m.\u001B[49m\u001B[43m_initialize\u001B[49m\u001B[43m(\u001B[49m\u001B[43m)\u001B[49m\n",
      "\u001B[36mFile \u001B[39m\u001B[32mD:\\AI Agent\\Rules of Survaival\\venv\\Lib\\site-packages\\logfire\\_internal\\config.py:896\u001B[39m, in \u001B[36mLogfireConfig._initialize\u001B[39m\u001B[34m(self)\u001B[39m\n\u001B[32m    893\u001B[39m \u001B[38;5;66;03m# if we still don't have a token, try initializing a new project and writing a new creds file\u001B[39;00m\n\u001B[32m    894\u001B[39m \u001B[38;5;66;03m# note, we only do this if `send_to_logfire` is explicitly `True`, not 'if-token-present'\u001B[39;00m\n\u001B[32m    895\u001B[39m \u001B[38;5;28;01mif\u001B[39;00m \u001B[38;5;28mself\u001B[39m.send_to_logfire \u001B[38;5;129;01mis\u001B[39;00m \u001B[38;5;28;01mTrue\u001B[39;00m \u001B[38;5;129;01mand\u001B[39;00m credentials \u001B[38;5;129;01mis\u001B[39;00m \u001B[38;5;28;01mNone\u001B[39;00m:\n\u001B[32m--> \u001B[39m\u001B[32m896\u001B[39m     credentials = \u001B[43mLogfireCredentials\u001B[49m\u001B[43m.\u001B[49m\u001B[43minitialize_project\u001B[49m\u001B[43m(\u001B[49m\n\u001B[32m    897\u001B[39m \u001B[43m        \u001B[49m\u001B[43mlogfire_api_url\u001B[49m\u001B[43m=\u001B[49m\u001B[38;5;28;43mself\u001B[39;49m\u001B[43m.\u001B[49m\u001B[43madvanced\u001B[49m\u001B[43m.\u001B[49m\u001B[43mbase_url\u001B[49m\u001B[43m,\u001B[49m\n\u001B[32m    898\u001B[39m \u001B[43m        \u001B[49m\u001B[43msession\u001B[49m\u001B[43m=\u001B[49m\u001B[43mrequests\u001B[49m\u001B[43m.\u001B[49m\u001B[43mSession\u001B[49m\u001B[43m(\u001B[49m\u001B[43m)\u001B[49m\u001B[43m,\u001B[49m\n\u001B[32m    899\u001B[39m \u001B[43m    \u001B[49m\u001B[43m)\u001B[49m\n\u001B[32m    900\u001B[39m     credentials.write_creds_file(\u001B[38;5;28mself\u001B[39m.data_dir)\n\u001B[32m    902\u001B[39m \u001B[38;5;28;01mif\u001B[39;00m credentials \u001B[38;5;129;01mis\u001B[39;00m \u001B[38;5;129;01mnot\u001B[39;00m \u001B[38;5;28;01mNone\u001B[39;00m:\n",
      "\u001B[36mFile \u001B[39m\u001B[32mD:\\AI Agent\\Rules of Survaival\\venv\\Lib\\site-packages\\logfire\\_internal\\config.py:1663\u001B[39m, in \u001B[36mLogfireCredentials.initialize_project\u001B[39m\u001B[34m(cls, session, logfire_api_url)\u001B[39m\n\u001B[32m   1656\u001B[39m credentials: \u001B[38;5;28mdict\u001B[39m[\u001B[38;5;28mstr\u001B[39m, Any] | \u001B[38;5;28;01mNone\u001B[39;00m = \u001B[38;5;28;01mNone\u001B[39;00m\n\u001B[32m   1658\u001B[39m \u001B[38;5;28mprint\u001B[39m(\n\u001B[32m   1659\u001B[39m     \u001B[33m'\u001B[39m\u001B[33mNo Logfire project credentials found.\u001B[39m\u001B[38;5;130;01m\\n\u001B[39;00m\u001B[33m'\u001B[39m  \u001B[38;5;66;03m# TODO: Add a link to the docs about where we look\u001B[39;00m\n\u001B[32m   1660\u001B[39m     \u001B[33m'\u001B[39m\u001B[33mAll data sent to Logfire must be associated with a project.\u001B[39m\u001B[38;5;130;01m\\n\u001B[39;00m\u001B[33m'\u001B[39m\n\u001B[32m   1661\u001B[39m )\n\u001B[32m-> \u001B[39m\u001B[32m1663\u001B[39m _, logfire_api_url = \u001B[38;5;28;43mcls\u001B[39;49m\u001B[43m.\u001B[49m\u001B[43m_get_user_token_data\u001B[49m\u001B[43m(\u001B[49m\u001B[43mlogfire_api_url\u001B[49m\u001B[43m=\u001B[49m\u001B[43mlogfire_api_url\u001B[49m\u001B[43m)\u001B[49m\n\u001B[32m   1665\u001B[39m projects = \u001B[38;5;28mcls\u001B[39m.get_user_projects(session=session, logfire_api_url=logfire_api_url)\n\u001B[32m   1666\u001B[39m \u001B[38;5;28;01mif\u001B[39;00m projects:\n",
      "\u001B[36mFile \u001B[39m\u001B[32mD:\\AI Agent\\Rules of Survaival\\venv\\Lib\\site-packages\\logfire\\_internal\\config.py:1369\u001B[39m, in \u001B[36mLogfireCredentials._get_user_token_data\u001B[39m\u001B[34m(cls, logfire_api_url)\u001B[39m\n\u001B[32m   1366\u001B[39m             \u001B[38;5;28;01melif\u001B[39;00m is_logged_in(data, logfire_api_url):\n\u001B[32m   1367\u001B[39m                 \u001B[38;5;28;01mreturn\u001B[39;00m data[\u001B[33m'\u001B[39m\u001B[33mtokens\u001B[39m\u001B[33m'\u001B[39m][logfire_api_url][\u001B[33m'\u001B[39m\u001B[33mtoken\u001B[39m\u001B[33m'\u001B[39m], logfire_api_url\n\u001B[32m-> \u001B[39m\u001B[32m1369\u001B[39m         \u001B[38;5;28;01mraise\u001B[39;00m LogfireConfigError(\n\u001B[32m   1370\u001B[39m \u001B[38;5;250m            \u001B[39m\u001B[33;03m\"\"\"You are not authenticated. Please run `logfire auth` to authenticate.\u001B[39;00m\n\u001B[32m   1371\u001B[39m \n\u001B[32m   1372\u001B[39m \u001B[33;03mIf you are running in production, you can set the `LOGFIRE_TOKEN` environment variable.\u001B[39;00m\n\u001B[32m   1373\u001B[39m \u001B[33;03mTo create a write token, refer to https://logfire.pydantic.dev/docs/guides/advanced/creating_write_tokens/\u001B[39;00m\n\u001B[32m   1374\u001B[39m \u001B[33;03m\"\"\"\u001B[39;00m\n\u001B[32m   1375\u001B[39m         )\n",
      "\u001B[31mLogfireConfigError\u001B[39m: You are not authenticated. Please run `logfire auth` to authenticate.\n\nIf you are running in production, you can set the `LOGFIRE_TOKEN` environment variable.\nTo create a write token, refer to https://logfire.pydantic.dev/docs/guides/advanced/creating_write_tokens/\n"
     ]
    }
   ],
   "execution_count": 2
  },
  {
   "cell_type": "code",
   "id": "b651386d-ffb3-4a30-8bb7-d8b9d63c20ec",
   "metadata": {
    "ExecuteTime": {
     "end_time": "2025-06-02T09:41:28.825576Z",
     "start_time": "2025-06-02T09:41:28.814481Z"
    }
   },
   "source": [
    "load_dotenv('./.env',override=True)"
   ],
   "outputs": [
    {
     "data": {
      "text/plain": [
       "True"
      ]
     },
     "execution_count": 3,
     "metadata": {},
     "output_type": "execute_result"
    }
   ],
   "execution_count": 3
  },
  {
   "cell_type": "markdown",
   "id": "411fb36f-9b3c-4952-be9b-e9f3ecc13546",
   "metadata": {},
   "source": [
    "## Common functions"
   ]
  },
  {
   "cell_type": "code",
   "id": "c7543e55-d35e-4367-ba74-e34306eb9e07",
   "metadata": {
    "ExecuteTime": {
     "end_time": "2025-06-02T09:41:57.704228Z",
     "start_time": "2025-06-02T09:41:57.695184Z"
    }
   },
   "source": [
    "from pydantic_ai import Agent, RunContext\n",
    "\n",
    "def find_resource(grid:np.array, resource: str) -> list:\n",
    "        \"\"\"Find resource cells\"\"\"\n",
    "    \n",
    "        pair_of_row_cols = np.where(grid==resource)\n",
    "        \n",
    "        l = []\n",
    "        if pair_of_row_cols:\n",
    "            for r,c in zip(pair_of_row_cols[0], pair_of_row_cols[1]):\n",
    "                l.append({'row': int(r), 'col': int(c)})    \n",
    "        return l\n",
    "\n",
    "# Move step (dr, dc, move_code)\n",
    "MOVES = [\n",
    "    (0, -1, 0),  # left\n",
    "    (0, 1,  1),  # right\n",
    "    (-1,0,  2),  # up\n",
    "    (1, 0,  3),  # down\n",
    "]\n",
    "\n",
    "def is_valid(r, c, grid):\n",
    "    h, w = grid.shape\n",
    "    return 0 <= r < h and 0 <= c < w and grid[r, c] in ('g', '-1')\n",
    "    \n",
    "def shortest_path():\n",
    "\n",
    "    return None"
   ],
   "outputs": [],
   "execution_count": 6
  },
  {
   "cell_type": "markdown",
   "id": "5f53a8e0-66c6-47e5-81be-e035852fb7bb",
   "metadata": {},
   "source": [
    "# Agents"
   ]
  },
  {
   "cell_type": "markdown",
   "id": "fe6b81a0-5527-41da-a57e-85067e4b61a5",
   "metadata": {},
   "source": [
    "## Orchestrator Agent"
   ]
  },
  {
   "cell_type": "code",
   "id": "0bc3d11e-7b7a-4ae8-acbf-158cf2fe30c2",
   "metadata": {
    "ExecuteTime": {
     "end_time": "2025-06-02T09:42:03.309325Z",
     "start_time": "2025-06-02T09:42:00.798380Z"
    }
   },
   "source": [
    "class Position(BaseModel):\n",
    "    row: int\n",
    "    col: int\n",
    "    \n",
    "class Task(BaseModel):\n",
    "    task_description: str\n",
    "    \n",
    "class CalCulateWinConditionTask(Task):\n",
    "    \"\"\"\n",
    "    step by step to calculate resource need, you can apply some calculate as +, -, * , / operator\n",
    "    \"\"\"\n",
    "    explain: str\n",
    "    wood_need: int\n",
    "    cotton_need: int\n",
    "\n",
    "class CollectResourceTask(Task):\n",
    "    position: Position\n",
    "    \n",
    "class CollectFoodTask(CollectResourceTask):\n",
    "    pass\n",
    "\n",
    "class CollectWoodTask(CollectResourceTask):\n",
    "    pass\n",
    "\n",
    "class CollectCottonTask(CollectResourceTask):\n",
    "    pass\n",
    "\n",
    "class GoHomeTask(Task):\n",
    "    pass\n",
    "\n",
    "class DiscoverMapTask(Task):\n",
    "    pass\n",
    "\n",
    "class UnknownTask(Task):\n",
    "    pass\n",
    "\n",
    "class WinCondition(BaseModel):\n",
    "    model_config = ConfigDict(arbitrary_types_allowed=True)\n",
    "    wood_need: int\n",
    "    cotton_need: int\n",
    "    player: Player\n",
    "    \n",
    "@dataclass\n",
    "class OrchestratorAgent:\n",
    "    \n",
    "    # Define constants for actions\n",
    "    KILL_OTHERS_TASK = \"kill other players\"\n",
    "    COLLECT_FOOD_TASK = \"collect food\"\n",
    "    COLLECT_WOOD_TASK = \"collect wood\"\n",
    "    COLLECT_COTTON_TASK = \"collect cotton\"\n",
    "    GOTO_CELL_TASK = \"Go to cell to collect resource\"\n",
    "    DISCOVER_MAP_TASK = \"discover map\"\n",
    "    CALCULATE_WIN_CONDITION = \"calculate condition to win the game\"\n",
    "    \n",
    "    GO_HOME_TASK = \"go home\"\n",
    "    UNKNOWN_TASK = \"unknown\"\n",
    "    config = Config()\n",
    "    \n",
    "    agent = Agent(\n",
    "            f'openai:{config.LLM_MODEL}',\n",
    "            output_type= CalCulateWinConditionTask | CollectFoodTask | CollectWoodTask | CollectCottonTask | GoHomeTask | Task | DiscoverMapTask | UnknownTask,\n",
    "            system_prompt=(\n",
    "                \"You are a helpful ai assistant\\n\"\n",
    "                \"Suggest the task to win the game\"\n",
    "                \n",
    "            ),\n",
    "            result_retries=2,\n",
    "        )\n",
    "\n",
    "    \n",
    "    @agent.system_prompt\n",
    "    def system_prompt(ctx: RunContext[WinCondition|Player]) -> str:\n",
    "        wood_need = max(0, ctx.deps.wood_need - ctx.deps.player.store.count('w'))\n",
    "        cotton_need = max(0, ctx.deps.cotton_need - ctx.deps.player.store.count('c'))\n",
    "\n",
    "        return f\"\"\"Identify the task should be to do\n",
    "You are an agent to play a 2D game. The map is a matrix 2D, cell values can be:\n",
    "  - 'g': cell is ground and you can step into it\n",
    "  - '-1': invisibe cell, you can can step into it \n",
    "  - 'f', 'w', 'c': food, wood, cotton cell. You can collect it.\n",
    "\n",
    "The **IMPORTANCE TASK IS COLLECT ONLY NEEDED RESOURCE** as wood, cotton to win the game. \n",
    "\n",
    "\n",
    "\n",
    "Base on the current map, your current resource or notify you suggest which task should to take.\n",
    "The task is choosen from these options: `{OrchestratorAgent.KILL_OTHERS_TASK}`, `{OrchestratorAgent.COLLECT_FOOD_TASK}`, `{OrchestratorAgent.COLLECT_WOOD_TASK}`, `{OrchestratorAgent.COLLECT_COTTON_TASK}`, `{OrchestratorAgent.DISCOVER_MAP_TASK}`, `{OrchestratorAgent.GOTO_CELL_TASK}`, `{OrchestratorAgent.CALCULATE_WIN_CONDITION}`, `{OrchestratorAgent.GO_HOME_TASK}` and `{OrchestratorAgent.UNKNOWN_TASK}`\n",
    "\n",
    "- If task is \"calculate condition to win the game\" try to number wood, cotton need to collect.\n",
    "\n",
    "- If you do not see any resource you should suggest the Discorver Task \n",
    "\n",
    "- If task is goto cell you should extract position of cell and return it\n",
    "\n",
    "Below helpfull info help you decine to select task:\n",
    " - Resource need to collect:\n",
    "     - wood needed to collect: {wood_need}\\n\"\n",
    "     - cotton needed to collect: {cotton_need}\\n\"\n",
    "\n",
    " - Your info : {ctx.deps.player}\"\n",
    "            \"Action will be invalid for all invalid messages\"\n",
    "\"\"\"\n",
    "    \n",
    "    @agent.output_validator\n",
    "    def validate_output(ctx: RunContext[None], result: Task) -> Task:\n",
    "        print(f'Validate task: {result}')\n",
    "        if isinstance(result, UnknownTask):\n",
    "            raise ModelRetry(\n",
    "                f\"Try to determine task or suggest discover map task\"\n",
    "            )\n",
    "        \n",
    "        return result\n",
    "\n",
    "    "
   ],
   "outputs": [],
   "execution_count": 7
  },
  {
   "cell_type": "markdown",
   "id": "e48a01c5-b815-4770-8e7b-5ac3c654ec58",
   "metadata": {},
   "source": [
    "## Test OrchestratorAgent"
   ]
  },
  {
   "cell_type": "markdown",
   "id": "5db277b6-dc1a-462d-ab0a-4e5a4276292e",
   "metadata": {},
   "source": [
    "### Task Analysis Assessment"
   ]
  },
  {
   "cell_type": "code",
   "id": "61d587d5-cc2f-4cd8-9b99-bd3b9750d532",
   "metadata": {
    "ExecuteTime": {
     "end_time": "2025-06-02T09:59:21.708506Z",
     "start_time": "2025-06-02T09:59:21.107137Z"
    }
   },
   "source": "c = Client(\"localhost\", 54712)",
   "outputs": [
    {
     "data": {
      "text/plain": [
       "\u001B[2;36m[16:59:21]\u001B[0m\u001B[2;36m \u001B[0m\u001B[1;35m[\u001B[0m\u001B[1;35mCLIENT\u001B[0m\u001B[1;35m]\u001B[0m Listern to localhost:\u001B[1;36m54712\u001B[0m                                                           \u001B[2mlogs.py\u001B[0m\u001B[2m:\u001B[0m\u001B[2m11\u001B[0m\n"
      ],
      "text/html": [
       "<pre style=\"white-space:pre;overflow-x:auto;line-height:normal;font-family:Menlo,'DejaVu Sans Mono',consolas,'Courier New',monospace\"><span style=\"color: #7fbfbf; text-decoration-color: #7fbfbf\">[16:59:21] </span><span style=\"color: #800080; text-decoration-color: #800080; font-weight: bold\">[CLIENT]</span> Listern to localhost:<span style=\"color: #008080; text-decoration-color: #008080; font-weight: bold\">54712</span>                                                           <span style=\"color: #7f7f7f; text-decoration-color: #7f7f7f\">logs.py:11</span>\n",
       "</pre>\n"
      ]
     },
     "metadata": {},
     "output_type": "display_data"
    },
    {
     "data": {
      "text/plain": [
       "\u001B[2;36m          \u001B[0m\u001B[2;36m \u001B[0m\u001B[1;35m[\u001B[0m\u001B[1;35mCLIENT\u001B[0m\u001B[1;35m]\u001B[0m Receive client from server: \u001B[33mid\u001B[0m=\u001B[1;36m0\u001B[0m \u001B[33mname\u001B[0m=\u001B[32m''\u001B[0m \u001B[33mstatus\u001B[0m=\u001B[1m<\u001B[0m\u001B[1;95mPlayerStatus.WAITING_FOR_PLAYERS:\u001B[0m\u001B[39m \u001B[0m  \u001B[2mlogs.py\u001B[0m\u001B[2m:\u001B[0m\u001B[2m11\u001B[0m\n",
       "\u001B[2;36m           \u001B[0m\u001B[32m'waiting for players'\u001B[0m\u001B[1m>\u001B[0m \u001B[33mhome_row\u001B[0m=\u001B[1;36m15\u001B[0m \u001B[33mhome_col\u001B[0m=\u001B[1;36m25\u001B[0m \u001B[33mrow\u001B[0m=\u001B[1;36m15\u001B[0m \u001B[33mcol\u001B[0m=\u001B[1;36m25\u001B[0m \u001B[33mallow_collect_items\u001B[0m=\u001B[1m[\u001B[0m\u001B[1m]\u001B[0m \u001B[33mstore\u001B[0m=\u001B[1m[\u001B[0m\u001B[1m]\u001B[0m  \u001B[2m          \u001B[0m\n",
       "\u001B[2;36m           \u001B[0m\u001B[33mfood\u001B[0m=\u001B[1;36m0\u001B[0m \u001B[33mwood\u001B[0m=\u001B[1;36m0\u001B[0m \u001B[33mcotton\u001B[0m=\u001B[1;36m0\u001B[0m \u001B[33mitems_on_hand\u001B[0m=\u001B[1m[\u001B[0m\u001B[1m]\u001B[0m \u001B[33marmor\u001B[0m=\u001B[1;36m0\u001B[0m \u001B[33msword\u001B[0m=\u001B[1;36m0\u001B[0m \u001B[33mfabric\u001B[0m=\u001B[1;36m0\u001B[0m                              \u001B[2m          \u001B[0m\n",
       "\u001B[2;36m           \u001B[0m\u001B[33mlast_updated\u001B[0m=\u001B[1;36m1748858361\u001B[0m\u001B[1;36m.12278\u001B[0m \u001B[33mpaused_time\u001B[0m=\u001B[1;36m0\u001B[0m \u001B[33mmap_w\u001B[0m=\u001B[1;36m32\u001B[0m \u001B[33mmap_h\u001B[0m=\u001B[1;36m18\u001B[0m \u001B[33mgrid\u001B[0m=\u001B[1;35marray\u001B[0m\u001B[1m(\u001B[0m\u001B[1m[\u001B[0m\u001B[1m[\u001B[0m\u001B[32m'-1'\u001B[0m, \u001B[32m'-1'\u001B[0m, \u001B[32m'-1'\u001B[0m,  \u001B[2m          \u001B[0m\n",
       "\u001B[2;36m           \u001B[0m\u001B[32m'-1'\u001B[0m, \u001B[32m'-1'\u001B[0m, \u001B[32m'-1'\u001B[0m, \u001B[32m'-1'\u001B[0m, \u001B[32m'-1'\u001B[0m, \u001B[32m'-1'\u001B[0m, \u001B[32m'-1'\u001B[0m, \u001B[32m'-1'\u001B[0m,                                               \u001B[2m          \u001B[0m\n",
       "\u001B[2;36m           \u001B[0m        \u001B[32m'-1'\u001B[0m, \u001B[32m'-1'\u001B[0m, \u001B[32m'-1'\u001B[0m, \u001B[32m'-1'\u001B[0m, \u001B[32m'-1'\u001B[0m, \u001B[32m'-1'\u001B[0m, \u001B[32m'-1'\u001B[0m, \u001B[32m'-1'\u001B[0m, \u001B[32m'-1'\u001B[0m, \u001B[32m'-1'\u001B[0m, \u001B[32m'-1'\u001B[0m,                     \u001B[2m          \u001B[0m\n",
       "\u001B[2;36m           \u001B[0m        \u001B[32m'-1'\u001B[0m, \u001B[32m'-1'\u001B[0m, \u001B[32m'-1'\u001B[0m, \u001B[32m'-1'\u001B[0m, \u001B[32m'-1'\u001B[0m, \u001B[32m'-1'\u001B[0m, \u001B[32m'-1'\u001B[0m, \u001B[32m'-1'\u001B[0m, \u001B[32m'-1'\u001B[0m, \u001B[32m'-1'\u001B[0m\u001B[1m]\u001B[0m,                          \u001B[2m          \u001B[0m\n",
       "\u001B[2;36m           \u001B[0m       \u001B[1m[\u001B[0m\u001B[32m'-1'\u001B[0m, \u001B[32m'-1'\u001B[0m, \u001B[32m'-1'\u001B[0m, \u001B[32m'-1'\u001B[0m, \u001B[32m'-1'\u001B[0m, \u001B[32m'-1'\u001B[0m, \u001B[32m'-1'\u001B[0m, \u001B[32m'-1'\u001B[0m, \u001B[32m'-1'\u001B[0m, \u001B[32m'-1'\u001B[0m, \u001B[32m'-1'\u001B[0m,                     \u001B[2m          \u001B[0m\n",
       "\u001B[2;36m           \u001B[0m        \u001B[32m'-1'\u001B[0m, \u001B[32m'-1'\u001B[0m, \u001B[32m'-1'\u001B[0m, \u001B[32m'-1'\u001B[0m, \u001B[32m'-1'\u001B[0m, \u001B[32m'-1'\u001B[0m, \u001B[32m'-1'\u001B[0m, \u001B[32m'-1'\u001B[0m, \u001B[32m'-1'\u001B[0m, \u001B[32m'-1'\u001B[0m, \u001B[32m'-1'\u001B[0m,                     \u001B[2m          \u001B[0m\n",
       "\u001B[2;36m           \u001B[0m        \u001B[32m'-1'\u001B[0m, \u001B[32m'-1'\u001B[0m, \u001B[32m'-1'\u001B[0m, \u001B[32m'-1'\u001B[0m, \u001B[32m'-1'\u001B[0m, \u001B[32m'-1'\u001B[0m, \u001B[32m'-1'\u001B[0m, \u001B[32m'-1'\u001B[0m, \u001B[32m'-1'\u001B[0m, \u001B[32m'-1'\u001B[0m\u001B[1m]\u001B[0m,                          \u001B[2m          \u001B[0m\n",
       "\u001B[2;36m           \u001B[0m       \u001B[1m[\u001B[0m\u001B[32m'-1'\u001B[0m, \u001B[32m'-1'\u001B[0m, \u001B[32m'-1'\u001B[0m, \u001B[32m'-1'\u001B[0m, \u001B[32m'-1'\u001B[0m, \u001B[32m'-1'\u001B[0m, \u001B[32m'-1'\u001B[0m, \u001B[32m'-1'\u001B[0m, \u001B[32m'-1'\u001B[0m, \u001B[32m'-1'\u001B[0m, \u001B[32m'-1'\u001B[0m,                     \u001B[2m          \u001B[0m\n",
       "\u001B[2;36m           \u001B[0m        \u001B[32m'-1'\u001B[0m, \u001B[32m'-1'\u001B[0m, \u001B[32m'-1'\u001B[0m, \u001B[32m'-1'\u001B[0m, \u001B[32m'-1'\u001B[0m, \u001B[32m'-1'\u001B[0m, \u001B[32m'-1'\u001B[0m, \u001B[32m'-1'\u001B[0m, \u001B[32m'-1'\u001B[0m, \u001B[32m'-1'\u001B[0m, \u001B[32m'-1'\u001B[0m,                     \u001B[2m          \u001B[0m\n",
       "\u001B[2;36m           \u001B[0m        \u001B[32m'-1'\u001B[0m, \u001B[32m'-1'\u001B[0m, \u001B[32m'-1'\u001B[0m, \u001B[32m'-1'\u001B[0m, \u001B[32m'-1'\u001B[0m, \u001B[32m'-1'\u001B[0m, \u001B[32m'-1'\u001B[0m, \u001B[32m'-1'\u001B[0m, \u001B[32m'-1'\u001B[0m, \u001B[32m'-1'\u001B[0m\u001B[1m]\u001B[0m,                          \u001B[2m          \u001B[0m\n",
       "\u001B[2;36m           \u001B[0m       \u001B[1m[\u001B[0m\u001B[32m'-1'\u001B[0m, \u001B[32m'-1'\u001B[0m, \u001B[32m'-1'\u001B[0m, \u001B[32m'-1'\u001B[0m, \u001B[32m'-1'\u001B[0m, \u001B[32m'-1'\u001B[0m, \u001B[32m'-1'\u001B[0m, \u001B[32m'-1'\u001B[0m, \u001B[32m'-1'\u001B[0m, \u001B[32m'-1'\u001B[0m, \u001B[32m'-1'\u001B[0m,                     \u001B[2m          \u001B[0m\n",
       "\u001B[2;36m           \u001B[0m        \u001B[32m'-1'\u001B[0m, \u001B[32m'-1'\u001B[0m, \u001B[32m'-1'\u001B[0m, \u001B[32m'-1'\u001B[0m, \u001B[32m'-1'\u001B[0m, \u001B[32m'-1'\u001B[0m, \u001B[32m'-1'\u001B[0m, \u001B[32m'-1'\u001B[0m, \u001B[32m'-1'\u001B[0m, \u001B[32m'-1'\u001B[0m, \u001B[32m'-1'\u001B[0m,                     \u001B[2m          \u001B[0m\n",
       "\u001B[2;36m           \u001B[0m        \u001B[32m'-1'\u001B[0m, \u001B[32m'-1'\u001B[0m, \u001B[32m'-1'\u001B[0m, \u001B[32m'-1'\u001B[0m, \u001B[32m'-1'\u001B[0m, \u001B[32m'-1'\u001B[0m, \u001B[32m'-1'\u001B[0m, \u001B[32m'-1'\u001B[0m, \u001B[32m'-1'\u001B[0m, \u001B[32m'-1'\u001B[0m\u001B[1m]\u001B[0m,                          \u001B[2m          \u001B[0m\n",
       "\u001B[2;36m           \u001B[0m       \u001B[1m[\u001B[0m\u001B[32m'-1'\u001B[0m, \u001B[32m'-1'\u001B[0m, \u001B[32m'-1'\u001B[0m, \u001B[32m'-1'\u001B[0m, \u001B[32m'-1'\u001B[0m, \u001B[32m'-1'\u001B[0m, \u001B[32m'-1'\u001B[0m, \u001B[32m'-1'\u001B[0m, \u001B[32m'-1'\u001B[0m, \u001B[32m'-1'\u001B[0m, \u001B[32m'-1'\u001B[0m,                     \u001B[2m          \u001B[0m\n",
       "\u001B[2;36m           \u001B[0m        \u001B[32m'-1'\u001B[0m, \u001B[32m'-1'\u001B[0m, \u001B[32m'-1'\u001B[0m, \u001B[32m'-1'\u001B[0m, \u001B[32m'-1'\u001B[0m, \u001B[32m'-1'\u001B[0m, \u001B[32m'-1'\u001B[0m, \u001B[32m'-1'\u001B[0m, \u001B[32m'-1'\u001B[0m, \u001B[32m'-1'\u001B[0m, \u001B[32m'-1'\u001B[0m,                     \u001B[2m          \u001B[0m\n",
       "\u001B[2;36m           \u001B[0m        \u001B[32m'-1'\u001B[0m, \u001B[32m'-1'\u001B[0m, \u001B[32m'-1'\u001B[0m, \u001B[32m'-1'\u001B[0m, \u001B[32m'-1'\u001B[0m, \u001B[32m'-1'\u001B[0m, \u001B[32m'-1'\u001B[0m, \u001B[32m'-1'\u001B[0m, \u001B[32m'-1'\u001B[0m, \u001B[32m'-1'\u001B[0m\u001B[1m]\u001B[0m,                          \u001B[2m          \u001B[0m\n",
       "\u001B[2;36m           \u001B[0m       \u001B[1m[\u001B[0m\u001B[32m'-1'\u001B[0m, \u001B[32m'-1'\u001B[0m, \u001B[32m'-1'\u001B[0m, \u001B[32m'-1'\u001B[0m, \u001B[32m'-1'\u001B[0m, \u001B[32m'-1'\u001B[0m, \u001B[32m'-1'\u001B[0m, \u001B[32m'-1'\u001B[0m, \u001B[32m'-1'\u001B[0m, \u001B[32m'-1'\u001B[0m, \u001B[32m'-1'\u001B[0m,                     \u001B[2m          \u001B[0m\n",
       "\u001B[2;36m           \u001B[0m        \u001B[32m'-1'\u001B[0m, \u001B[32m'-1'\u001B[0m, \u001B[32m'-1'\u001B[0m, \u001B[32m'-1'\u001B[0m, \u001B[32m'-1'\u001B[0m, \u001B[32m'-1'\u001B[0m, \u001B[32m'-1'\u001B[0m, \u001B[32m'-1'\u001B[0m, \u001B[32m'-1'\u001B[0m, \u001B[32m'-1'\u001B[0m, \u001B[32m'-1'\u001B[0m,                     \u001B[2m          \u001B[0m\n",
       "\u001B[2;36m           \u001B[0m        \u001B[32m'-1'\u001B[0m, \u001B[32m'-1'\u001B[0m, \u001B[32m'-1'\u001B[0m, \u001B[32m'-1'\u001B[0m, \u001B[32m'-1'\u001B[0m, \u001B[32m'-1'\u001B[0m, \u001B[32m'-1'\u001B[0m, \u001B[32m'-1'\u001B[0m, \u001B[32m'-1'\u001B[0m, \u001B[32m'-1'\u001B[0m\u001B[1m]\u001B[0m,                          \u001B[2m          \u001B[0m\n",
       "\u001B[2;36m           \u001B[0m       \u001B[1m[\u001B[0m\u001B[32m'-1'\u001B[0m, \u001B[32m'-1'\u001B[0m, \u001B[32m'-1'\u001B[0m, \u001B[32m'-1'\u001B[0m, \u001B[32m'-1'\u001B[0m, \u001B[32m'-1'\u001B[0m, \u001B[32m'-1'\u001B[0m, \u001B[32m'-1'\u001B[0m, \u001B[32m'-1'\u001B[0m, \u001B[32m'-1'\u001B[0m, \u001B[32m'-1'\u001B[0m,                     \u001B[2m          \u001B[0m\n",
       "\u001B[2;36m           \u001B[0m        \u001B[32m'-1'\u001B[0m, \u001B[32m'-1'\u001B[0m, \u001B[32m'-1'\u001B[0m, \u001B[32m'-1'\u001B[0m, \u001B[32m'-1'\u001B[0m, \u001B[32m'-1'\u001B[0m, \u001B[32m'-1'\u001B[0m, \u001B[32m'-1'\u001B[0m, \u001B[32m'-1'\u001B[0m, \u001B[32m'-1'\u001B[0m, \u001B[32m'-1'\u001B[0m,                     \u001B[2m          \u001B[0m\n",
       "\u001B[2;36m           \u001B[0m        \u001B[32m'-1'\u001B[0m, \u001B[32m'-1'\u001B[0m, \u001B[32m'-1'\u001B[0m, \u001B[32m'-1'\u001B[0m, \u001B[32m'-1'\u001B[0m, \u001B[32m'-1'\u001B[0m, \u001B[32m'-1'\u001B[0m, \u001B[32m'-1'\u001B[0m, \u001B[32m'-1'\u001B[0m, \u001B[32m'-1'\u001B[0m\u001B[1m]\u001B[0m,                          \u001B[2m          \u001B[0m\n",
       "\u001B[2;36m           \u001B[0m       \u001B[1m[\u001B[0m\u001B[32m'-1'\u001B[0m, \u001B[32m'-1'\u001B[0m, \u001B[32m'-1'\u001B[0m, \u001B[32m'-1'\u001B[0m, \u001B[32m'-1'\u001B[0m, \u001B[32m'-1'\u001B[0m, \u001B[32m'-1'\u001B[0m, \u001B[32m'-1'\u001B[0m, \u001B[32m'-1'\u001B[0m, \u001B[32m'-1'\u001B[0m, \u001B[32m'-1'\u001B[0m,                     \u001B[2m          \u001B[0m\n",
       "\u001B[2;36m           \u001B[0m        \u001B[32m'-1'\u001B[0m, \u001B[32m'-1'\u001B[0m, \u001B[32m'-1'\u001B[0m, \u001B[32m'-1'\u001B[0m, \u001B[32m'-1'\u001B[0m, \u001B[32m'-1'\u001B[0m, \u001B[32m'-1'\u001B[0m, \u001B[32m'-1'\u001B[0m, \u001B[32m'-1'\u001B[0m, \u001B[32m'-1'\u001B[0m, \u001B[32m'-1'\u001B[0m,                     \u001B[2m          \u001B[0m\n",
       "\u001B[2;36m           \u001B[0m        \u001B[32m'-1'\u001B[0m, \u001B[32m'-1'\u001B[0m, \u001B[32m'-1'\u001B[0m, \u001B[32m'-1'\u001B[0m, \u001B[32m'-1'\u001B[0m, \u001B[32m'-1'\u001B[0m, \u001B[32m'-1'\u001B[0m, \u001B[32m'-1'\u001B[0m, \u001B[32m'-1'\u001B[0m, \u001B[32m'-1'\u001B[0m\u001B[1m]\u001B[0m,                          \u001B[2m          \u001B[0m\n",
       "\u001B[2;36m           \u001B[0m       \u001B[1m[\u001B[0m\u001B[32m'-1'\u001B[0m, \u001B[32m'-1'\u001B[0m, \u001B[32m'-1'\u001B[0m, \u001B[32m'-1'\u001B[0m, \u001B[32m'-1'\u001B[0m, \u001B[32m'-1'\u001B[0m, \u001B[32m'-1'\u001B[0m, \u001B[32m'-1'\u001B[0m, \u001B[32m'-1'\u001B[0m, \u001B[32m'-1'\u001B[0m, \u001B[32m'-1'\u001B[0m,                     \u001B[2m          \u001B[0m\n",
       "\u001B[2;36m           \u001B[0m        \u001B[32m'-1'\u001B[0m, \u001B[32m'-1'\u001B[0m, \u001B[32m'-1'\u001B[0m, \u001B[32m'-1'\u001B[0m, \u001B[32m'-1'\u001B[0m, \u001B[32m'-1'\u001B[0m, \u001B[32m'-1'\u001B[0m, \u001B[32m'-1'\u001B[0m, \u001B[32m'-1'\u001B[0m, \u001B[32m'-1'\u001B[0m, \u001B[32m'-1'\u001B[0m,                     \u001B[2m          \u001B[0m\n",
       "\u001B[2;36m           \u001B[0m        \u001B[32m'-1'\u001B[0m, \u001B[32m'-1'\u001B[0m, \u001B[32m'-1'\u001B[0m, \u001B[32m'-1'\u001B[0m, \u001B[32m'-1'\u001B[0m, \u001B[32m'-1'\u001B[0m, \u001B[32m'-1'\u001B[0m, \u001B[32m'-1'\u001B[0m, \u001B[32m'-1'\u001B[0m, \u001B[32m'-1'\u001B[0m\u001B[1m]\u001B[0m,                          \u001B[2m          \u001B[0m\n",
       "\u001B[2;36m           \u001B[0m       \u001B[1m[\u001B[0m\u001B[32m'-1'\u001B[0m, \u001B[32m'-1'\u001B[0m, \u001B[32m'-1'\u001B[0m, \u001B[32m'-1'\u001B[0m, \u001B[32m'-1'\u001B[0m, \u001B[32m'-1'\u001B[0m, \u001B[32m'-1'\u001B[0m, \u001B[32m'-1'\u001B[0m, \u001B[32m'-1'\u001B[0m, \u001B[32m'-1'\u001B[0m, \u001B[32m'-1'\u001B[0m,                     \u001B[2m          \u001B[0m\n",
       "\u001B[2;36m           \u001B[0m        \u001B[32m'-1'\u001B[0m, \u001B[32m'-1'\u001B[0m, \u001B[32m'-1'\u001B[0m, \u001B[32m'-1'\u001B[0m, \u001B[32m'-1'\u001B[0m, \u001B[32m'-1'\u001B[0m, \u001B[32m'-1'\u001B[0m, \u001B[32m'-1'\u001B[0m, \u001B[32m'-1'\u001B[0m, \u001B[32m'-1'\u001B[0m, \u001B[32m'-1'\u001B[0m,                     \u001B[2m          \u001B[0m\n",
       "\u001B[2;36m           \u001B[0m        \u001B[32m'-1'\u001B[0m, \u001B[32m'-1'\u001B[0m, \u001B[32m'-1'\u001B[0m, \u001B[32m'-1'\u001B[0m, \u001B[32m'-1'\u001B[0m, \u001B[32m'-1'\u001B[0m, \u001B[32m'-1'\u001B[0m, \u001B[32m'-1'\u001B[0m, \u001B[32m'-1'\u001B[0m, \u001B[32m'-1'\u001B[0m\u001B[1m]\u001B[0m,                          \u001B[2m          \u001B[0m\n",
       "\u001B[2;36m           \u001B[0m       \u001B[1m[\u001B[0m\u001B[32m'-1'\u001B[0m, \u001B[32m'-1'\u001B[0m, \u001B[32m'-1'\u001B[0m, \u001B[32m'-1'\u001B[0m, \u001B[32m'-1'\u001B[0m, \u001B[32m'-1'\u001B[0m, \u001B[32m'-1'\u001B[0m, \u001B[32m'-1'\u001B[0m, \u001B[32m'-1'\u001B[0m, \u001B[32m'-1'\u001B[0m, \u001B[32m'-1'\u001B[0m,                     \u001B[2m          \u001B[0m\n",
       "\u001B[2;36m           \u001B[0m        \u001B[32m'-1'\u001B[0m, \u001B[32m'-1'\u001B[0m, \u001B[32m'-1'\u001B[0m, \u001B[32m'-1'\u001B[0m, \u001B[32m'-1'\u001B[0m, \u001B[32m'-1'\u001B[0m, \u001B[32m'-1'\u001B[0m, \u001B[32m'-1'\u001B[0m, \u001B[32m'-1'\u001B[0m, \u001B[32m'-1'\u001B[0m, \u001B[32m'-1'\u001B[0m,                     \u001B[2m          \u001B[0m\n",
       "\u001B[2;36m           \u001B[0m        \u001B[32m'-1'\u001B[0m, \u001B[32m'-1'\u001B[0m, \u001B[32m'-1'\u001B[0m, \u001B[32m'-1'\u001B[0m, \u001B[32m'-1'\u001B[0m, \u001B[32m'-1'\u001B[0m, \u001B[32m'-1'\u001B[0m, \u001B[32m'-1'\u001B[0m, \u001B[32m'-1'\u001B[0m, \u001B[32m'-1'\u001B[0m\u001B[1m]\u001B[0m,                          \u001B[2m          \u001B[0m\n",
       "\u001B[2;36m           \u001B[0m       \u001B[1m[\u001B[0m\u001B[32m'-1'\u001B[0m, \u001B[32m'-1'\u001B[0m, \u001B[32m'-1'\u001B[0m, \u001B[32m'-1'\u001B[0m, \u001B[32m'-1'\u001B[0m, \u001B[32m'-1'\u001B[0m, \u001B[32m'-1'\u001B[0m, \u001B[32m'-1'\u001B[0m, \u001B[32m'-1'\u001B[0m, \u001B[32m'-1'\u001B[0m, \u001B[32m'-1'\u001B[0m,                     \u001B[2m          \u001B[0m\n",
       "\u001B[2;36m           \u001B[0m        \u001B[32m'-1'\u001B[0m, \u001B[32m'-1'\u001B[0m, \u001B[32m'-1'\u001B[0m, \u001B[32m'-1'\u001B[0m, \u001B[32m'-1'\u001B[0m, \u001B[32m'-1'\u001B[0m, \u001B[32m'-1'\u001B[0m, \u001B[32m'-1'\u001B[0m, \u001B[32m'-1'\u001B[0m, \u001B[32m'-1'\u001B[0m, \u001B[32m'-1'\u001B[0m,                     \u001B[2m          \u001B[0m\n",
       "\u001B[2;36m           \u001B[0m        \u001B[32m'-1'\u001B[0m, \u001B[32m'-1'\u001B[0m, \u001B[32m'-1'\u001B[0m, \u001B[32m'-1'\u001B[0m, \u001B[32m'-1'\u001B[0m, \u001B[32m'-1'\u001B[0m, \u001B[32m'-1'\u001B[0m, \u001B[32m'-1'\u001B[0m, \u001B[32m'-1'\u001B[0m, \u001B[32m'-1'\u001B[0m\u001B[1m]\u001B[0m,                          \u001B[2m          \u001B[0m\n",
       "\u001B[2;36m           \u001B[0m       \u001B[1m[\u001B[0m\u001B[32m'-1'\u001B[0m, \u001B[32m'-1'\u001B[0m, \u001B[32m'-1'\u001B[0m, \u001B[32m'-1'\u001B[0m, \u001B[32m'-1'\u001B[0m, \u001B[32m'-1'\u001B[0m, \u001B[32m'-1'\u001B[0m, \u001B[32m'-1'\u001B[0m, \u001B[32m'-1'\u001B[0m, \u001B[32m'-1'\u001B[0m, \u001B[32m'-1'\u001B[0m,                     \u001B[2m          \u001B[0m\n",
       "\u001B[2;36m           \u001B[0m        \u001B[32m'-1'\u001B[0m, \u001B[32m'-1'\u001B[0m, \u001B[32m'-1'\u001B[0m, \u001B[32m'-1'\u001B[0m, \u001B[32m'-1'\u001B[0m, \u001B[32m'-1'\u001B[0m, \u001B[32m'-1'\u001B[0m, \u001B[32m'-1'\u001B[0m, \u001B[32m'-1'\u001B[0m, \u001B[32m'-1'\u001B[0m, \u001B[32m'-1'\u001B[0m,                     \u001B[2m          \u001B[0m\n",
       "\u001B[2;36m           \u001B[0m        \u001B[32m'-1'\u001B[0m, \u001B[32m'-1'\u001B[0m, \u001B[32m'-1'\u001B[0m, \u001B[32m'-1'\u001B[0m, \u001B[32m'-1'\u001B[0m, \u001B[32m'-1'\u001B[0m, \u001B[32m'-1'\u001B[0m, \u001B[32m'-1'\u001B[0m, \u001B[32m'-1'\u001B[0m, \u001B[32m'-1'\u001B[0m\u001B[1m]\u001B[0m,                          \u001B[2m          \u001B[0m\n",
       "\u001B[2;36m           \u001B[0m       \u001B[1m[\u001B[0m\u001B[32m'-1'\u001B[0m, \u001B[32m'-1'\u001B[0m, \u001B[32m'-1'\u001B[0m, \u001B[32m'-1'\u001B[0m, \u001B[32m'-1'\u001B[0m, \u001B[32m'-1'\u001B[0m, \u001B[32m'-1'\u001B[0m, \u001B[32m'-1'\u001B[0m, \u001B[32m'-1'\u001B[0m, \u001B[32m'-1'\u001B[0m, \u001B[32m'-1'\u001B[0m,                     \u001B[2m          \u001B[0m\n",
       "\u001B[2;36m           \u001B[0m        \u001B[32m'-1'\u001B[0m, \u001B[32m'-1'\u001B[0m, \u001B[32m'-1'\u001B[0m, \u001B[32m'-1'\u001B[0m, \u001B[32m'-1'\u001B[0m, \u001B[32m'-1'\u001B[0m, \u001B[32m'-1'\u001B[0m, \u001B[32m'-1'\u001B[0m, \u001B[32m'-1'\u001B[0m, \u001B[32m'-1'\u001B[0m, \u001B[32m'-1'\u001B[0m,                     \u001B[2m          \u001B[0m\n",
       "\u001B[2;36m           \u001B[0m        \u001B[32m'-1'\u001B[0m, \u001B[32m'g'\u001B[0m, \u001B[32m'g'\u001B[0m, \u001B[32m'g'\u001B[0m, \u001B[32m'g'\u001B[0m, \u001B[32m'g'\u001B[0m, \u001B[32m'-1'\u001B[0m, \u001B[32m'-1'\u001B[0m, \u001B[32m'-1'\u001B[0m, \u001B[32m'-1'\u001B[0m\u001B[1m]\u001B[0m,                               \u001B[2m          \u001B[0m\n",
       "\u001B[2;36m           \u001B[0m       \u001B[1m[\u001B[0m\u001B[32m'-1'\u001B[0m, \u001B[32m'-1'\u001B[0m, \u001B[32m'-1'\u001B[0m, \u001B[32m'-1'\u001B[0m, \u001B[32m'-1'\u001B[0m, \u001B[32m'-1'\u001B[0m, \u001B[32m'-1'\u001B[0m, \u001B[32m'-1'\u001B[0m, \u001B[32m'-1'\u001B[0m, \u001B[32m'-1'\u001B[0m, \u001B[32m'-1'\u001B[0m,                     \u001B[2m          \u001B[0m\n",
       "\u001B[2;36m           \u001B[0m        \u001B[32m'-1'\u001B[0m, \u001B[32m'-1'\u001B[0m, \u001B[32m'-1'\u001B[0m, \u001B[32m'-1'\u001B[0m, \u001B[32m'-1'\u001B[0m, \u001B[32m'-1'\u001B[0m, \u001B[32m'-1'\u001B[0m, \u001B[32m'-1'\u001B[0m, \u001B[32m'-1'\u001B[0m, \u001B[32m'-1'\u001B[0m, \u001B[32m'-1'\u001B[0m,                     \u001B[2m          \u001B[0m\n",
       "\u001B[2;36m           \u001B[0m        \u001B[32m'-1'\u001B[0m, \u001B[32m'g'\u001B[0m, \u001B[32m'g'\u001B[0m, \u001B[32m'g'\u001B[0m, \u001B[32m'g'\u001B[0m, \u001B[32m'g'\u001B[0m, \u001B[32m'-1'\u001B[0m, \u001B[32m'-1'\u001B[0m, \u001B[32m'-1'\u001B[0m, \u001B[32m'-1'\u001B[0m\u001B[1m]\u001B[0m,                               \u001B[2m          \u001B[0m\n",
       "\u001B[2;36m           \u001B[0m       \u001B[1m[\u001B[0m\u001B[32m'-1'\u001B[0m, \u001B[32m'-1'\u001B[0m, \u001B[32m'-1'\u001B[0m, \u001B[32m'-1'\u001B[0m, \u001B[32m'-1'\u001B[0m, \u001B[32m'-1'\u001B[0m, \u001B[32m'-1'\u001B[0m, \u001B[32m'-1'\u001B[0m, \u001B[32m'-1'\u001B[0m, \u001B[32m'-1'\u001B[0m, \u001B[32m'-1'\u001B[0m,                     \u001B[2m          \u001B[0m\n",
       "\u001B[2;36m           \u001B[0m        \u001B[32m'-1'\u001B[0m, \u001B[32m'-1'\u001B[0m, \u001B[32m'-1'\u001B[0m, \u001B[32m'-1'\u001B[0m, \u001B[32m'-1'\u001B[0m, \u001B[32m'-1'\u001B[0m, \u001B[32m'-1'\u001B[0m, \u001B[32m'-1'\u001B[0m, \u001B[32m'-1'\u001B[0m, \u001B[32m'-1'\u001B[0m, \u001B[32m'-1'\u001B[0m,                     \u001B[2m          \u001B[0m\n",
       "\u001B[2;36m           \u001B[0m        \u001B[32m'-1'\u001B[0m, \u001B[32m'g'\u001B[0m, \u001B[32m'g'\u001B[0m, \u001B[32m'0'\u001B[0m, \u001B[32m'g'\u001B[0m, \u001B[32m'g'\u001B[0m, \u001B[32m'-1'\u001B[0m, \u001B[32m'-1'\u001B[0m, \u001B[32m'-1'\u001B[0m, \u001B[32m'-1'\u001B[0m\u001B[1m]\u001B[0m,                               \u001B[2m          \u001B[0m\n",
       "\u001B[2;36m           \u001B[0m       \u001B[1m[\u001B[0m\u001B[32m'-1'\u001B[0m, \u001B[32m'-1'\u001B[0m, \u001B[32m'-1'\u001B[0m, \u001B[32m'-1'\u001B[0m, \u001B[32m'-1'\u001B[0m, \u001B[32m'-1'\u001B[0m, \u001B[32m'-1'\u001B[0m, \u001B[32m'-1'\u001B[0m, \u001B[32m'-1'\u001B[0m, \u001B[32m'-1'\u001B[0m, \u001B[32m'-1'\u001B[0m,                     \u001B[2m          \u001B[0m\n",
       "\u001B[2;36m           \u001B[0m        \u001B[32m'-1'\u001B[0m, \u001B[32m'-1'\u001B[0m, \u001B[32m'-1'\u001B[0m, \u001B[32m'-1'\u001B[0m, \u001B[32m'-1'\u001B[0m, \u001B[32m'-1'\u001B[0m, \u001B[32m'-1'\u001B[0m, \u001B[32m'-1'\u001B[0m, \u001B[32m'-1'\u001B[0m, \u001B[32m'-1'\u001B[0m, \u001B[32m'-1'\u001B[0m,                     \u001B[2m          \u001B[0m\n",
       "\u001B[2;36m           \u001B[0m        \u001B[32m'-1'\u001B[0m, \u001B[32m'g'\u001B[0m, \u001B[32m'g'\u001B[0m, \u001B[32m'g'\u001B[0m, \u001B[32m'g'\u001B[0m, \u001B[32m'g'\u001B[0m, \u001B[32m'-1'\u001B[0m, \u001B[32m'-1'\u001B[0m, \u001B[32m'-1'\u001B[0m, \u001B[32m'-1'\u001B[0m\u001B[1m]\u001B[0m,                               \u001B[2m          \u001B[0m\n",
       "\u001B[2;36m           \u001B[0m       \u001B[1m[\u001B[0m\u001B[32m'-1'\u001B[0m, \u001B[32m'-1'\u001B[0m, \u001B[32m'-1'\u001B[0m, \u001B[32m'-1'\u001B[0m, \u001B[32m'-1'\u001B[0m, \u001B[32m'-1'\u001B[0m, \u001B[32m'-1'\u001B[0m, \u001B[32m'-1'\u001B[0m, \u001B[32m'-1'\u001B[0m, \u001B[32m'-1'\u001B[0m, \u001B[32m'-1'\u001B[0m,                     \u001B[2m          \u001B[0m\n",
       "\u001B[2;36m           \u001B[0m        \u001B[32m'-1'\u001B[0m, \u001B[32m'-1'\u001B[0m, \u001B[32m'-1'\u001B[0m, \u001B[32m'-1'\u001B[0m, \u001B[32m'-1'\u001B[0m, \u001B[32m'-1'\u001B[0m, \u001B[32m'-1'\u001B[0m, \u001B[32m'-1'\u001B[0m, \u001B[32m'-1'\u001B[0m, \u001B[32m'-1'\u001B[0m, \u001B[32m'-1'\u001B[0m,                     \u001B[2m          \u001B[0m\n",
       "\u001B[2;36m           \u001B[0m        \u001B[32m'-1'\u001B[0m, \u001B[32m'g'\u001B[0m, \u001B[32m'g'\u001B[0m, \u001B[32m'g'\u001B[0m, \u001B[32m'g'\u001B[0m, \u001B[32m'g'\u001B[0m, \u001B[32m'-1'\u001B[0m, \u001B[32m'-1'\u001B[0m, \u001B[32m'-1'\u001B[0m, \u001B[32m'-1'\u001B[0m\u001B[1m]\u001B[0m\u001B[1m]\u001B[0m,                              \u001B[2m          \u001B[0m\n",
       "\u001B[2;36m           \u001B[0m      \u001B[33mdtype\u001B[0m=\u001B[32m'<U2'\u001B[0m\u001B[1m)\u001B[0m \u001B[33mmessage\u001B[0m=\u001B[32m''\u001B[0m \u001B[33min_process_move_messages\u001B[0m=\u001B[1m[\u001B[0m\u001B[1m]\u001B[0m                                     \u001B[2m          \u001B[0m\n"
      ],
      "text/html": [
       "<pre style=\"white-space:pre;overflow-x:auto;line-height:normal;font-family:Menlo,'DejaVu Sans Mono',consolas,'Courier New',monospace\"><span style=\"color: #7fbfbf; text-decoration-color: #7fbfbf\">           </span><span style=\"color: #800080; text-decoration-color: #800080; font-weight: bold\">[CLIENT]</span> Receive client from server: <span style=\"color: #808000; text-decoration-color: #808000\">id</span>=<span style=\"color: #008080; text-decoration-color: #008080; font-weight: bold\">0</span> <span style=\"color: #808000; text-decoration-color: #808000\">name</span>=<span style=\"color: #008000; text-decoration-color: #008000\">''</span> <span style=\"color: #808000; text-decoration-color: #808000\">status</span>=<span style=\"font-weight: bold\">&lt;</span><span style=\"color: #ff00ff; text-decoration-color: #ff00ff; font-weight: bold\">PlayerStatus.WAITING_FOR_PLAYERS:</span><span style=\"color: #000000; text-decoration-color: #000000\"> </span>  <span style=\"color: #7f7f7f; text-decoration-color: #7f7f7f\">logs.py:11</span>\n",
       "<span style=\"color: #7fbfbf; text-decoration-color: #7fbfbf\">           </span><span style=\"color: #008000; text-decoration-color: #008000\">'waiting for players'</span><span style=\"font-weight: bold\">&gt;</span> <span style=\"color: #808000; text-decoration-color: #808000\">home_row</span>=<span style=\"color: #008080; text-decoration-color: #008080; font-weight: bold\">15</span> <span style=\"color: #808000; text-decoration-color: #808000\">home_col</span>=<span style=\"color: #008080; text-decoration-color: #008080; font-weight: bold\">25</span> <span style=\"color: #808000; text-decoration-color: #808000\">row</span>=<span style=\"color: #008080; text-decoration-color: #008080; font-weight: bold\">15</span> <span style=\"color: #808000; text-decoration-color: #808000\">col</span>=<span style=\"color: #008080; text-decoration-color: #008080; font-weight: bold\">25</span> <span style=\"color: #808000; text-decoration-color: #808000\">allow_collect_items</span>=<span style=\"font-weight: bold\">[]</span> <span style=\"color: #808000; text-decoration-color: #808000\">store</span>=<span style=\"font-weight: bold\">[]</span>  <span style=\"color: #7f7f7f; text-decoration-color: #7f7f7f\">          </span>\n",
       "<span style=\"color: #7fbfbf; text-decoration-color: #7fbfbf\">           </span><span style=\"color: #808000; text-decoration-color: #808000\">food</span>=<span style=\"color: #008080; text-decoration-color: #008080; font-weight: bold\">0</span> <span style=\"color: #808000; text-decoration-color: #808000\">wood</span>=<span style=\"color: #008080; text-decoration-color: #008080; font-weight: bold\">0</span> <span style=\"color: #808000; text-decoration-color: #808000\">cotton</span>=<span style=\"color: #008080; text-decoration-color: #008080; font-weight: bold\">0</span> <span style=\"color: #808000; text-decoration-color: #808000\">items_on_hand</span>=<span style=\"font-weight: bold\">[]</span> <span style=\"color: #808000; text-decoration-color: #808000\">armor</span>=<span style=\"color: #008080; text-decoration-color: #008080; font-weight: bold\">0</span> <span style=\"color: #808000; text-decoration-color: #808000\">sword</span>=<span style=\"color: #008080; text-decoration-color: #008080; font-weight: bold\">0</span> <span style=\"color: #808000; text-decoration-color: #808000\">fabric</span>=<span style=\"color: #008080; text-decoration-color: #008080; font-weight: bold\">0</span>                              <span style=\"color: #7f7f7f; text-decoration-color: #7f7f7f\">          </span>\n",
       "<span style=\"color: #7fbfbf; text-decoration-color: #7fbfbf\">           </span><span style=\"color: #808000; text-decoration-color: #808000\">last_updated</span>=<span style=\"color: #008080; text-decoration-color: #008080; font-weight: bold\">1748858361.12278</span> <span style=\"color: #808000; text-decoration-color: #808000\">paused_time</span>=<span style=\"color: #008080; text-decoration-color: #008080; font-weight: bold\">0</span> <span style=\"color: #808000; text-decoration-color: #808000\">map_w</span>=<span style=\"color: #008080; text-decoration-color: #008080; font-weight: bold\">32</span> <span style=\"color: #808000; text-decoration-color: #808000\">map_h</span>=<span style=\"color: #008080; text-decoration-color: #008080; font-weight: bold\">18</span> <span style=\"color: #808000; text-decoration-color: #808000\">grid</span>=<span style=\"color: #800080; text-decoration-color: #800080; font-weight: bold\">array</span><span style=\"font-weight: bold\">([[</span><span style=\"color: #008000; text-decoration-color: #008000\">'-1'</span>, <span style=\"color: #008000; text-decoration-color: #008000\">'-1'</span>, <span style=\"color: #008000; text-decoration-color: #008000\">'-1'</span>,  <span style=\"color: #7f7f7f; text-decoration-color: #7f7f7f\">          </span>\n",
       "<span style=\"color: #7fbfbf; text-decoration-color: #7fbfbf\">           </span><span style=\"color: #008000; text-decoration-color: #008000\">'-1'</span>, <span style=\"color: #008000; text-decoration-color: #008000\">'-1'</span>, <span style=\"color: #008000; text-decoration-color: #008000\">'-1'</span>, <span style=\"color: #008000; text-decoration-color: #008000\">'-1'</span>, <span style=\"color: #008000; text-decoration-color: #008000\">'-1'</span>, <span style=\"color: #008000; text-decoration-color: #008000\">'-1'</span>, <span style=\"color: #008000; text-decoration-color: #008000\">'-1'</span>, <span style=\"color: #008000; text-decoration-color: #008000\">'-1'</span>,                                               <span style=\"color: #7f7f7f; text-decoration-color: #7f7f7f\">          </span>\n",
       "<span style=\"color: #7fbfbf; text-decoration-color: #7fbfbf\">           </span>        <span style=\"color: #008000; text-decoration-color: #008000\">'-1'</span>, <span style=\"color: #008000; text-decoration-color: #008000\">'-1'</span>, <span style=\"color: #008000; text-decoration-color: #008000\">'-1'</span>, <span style=\"color: #008000; text-decoration-color: #008000\">'-1'</span>, <span style=\"color: #008000; text-decoration-color: #008000\">'-1'</span>, <span style=\"color: #008000; text-decoration-color: #008000\">'-1'</span>, <span style=\"color: #008000; text-decoration-color: #008000\">'-1'</span>, <span style=\"color: #008000; text-decoration-color: #008000\">'-1'</span>, <span style=\"color: #008000; text-decoration-color: #008000\">'-1'</span>, <span style=\"color: #008000; text-decoration-color: #008000\">'-1'</span>, <span style=\"color: #008000; text-decoration-color: #008000\">'-1'</span>,                     <span style=\"color: #7f7f7f; text-decoration-color: #7f7f7f\">          </span>\n",
       "<span style=\"color: #7fbfbf; text-decoration-color: #7fbfbf\">           </span>        <span style=\"color: #008000; text-decoration-color: #008000\">'-1'</span>, <span style=\"color: #008000; text-decoration-color: #008000\">'-1'</span>, <span style=\"color: #008000; text-decoration-color: #008000\">'-1'</span>, <span style=\"color: #008000; text-decoration-color: #008000\">'-1'</span>, <span style=\"color: #008000; text-decoration-color: #008000\">'-1'</span>, <span style=\"color: #008000; text-decoration-color: #008000\">'-1'</span>, <span style=\"color: #008000; text-decoration-color: #008000\">'-1'</span>, <span style=\"color: #008000; text-decoration-color: #008000\">'-1'</span>, <span style=\"color: #008000; text-decoration-color: #008000\">'-1'</span>, <span style=\"color: #008000; text-decoration-color: #008000\">'-1'</span><span style=\"font-weight: bold\">]</span>,                          <span style=\"color: #7f7f7f; text-decoration-color: #7f7f7f\">          </span>\n",
       "<span style=\"color: #7fbfbf; text-decoration-color: #7fbfbf\">           </span>       <span style=\"font-weight: bold\">[</span><span style=\"color: #008000; text-decoration-color: #008000\">'-1'</span>, <span style=\"color: #008000; text-decoration-color: #008000\">'-1'</span>, <span style=\"color: #008000; text-decoration-color: #008000\">'-1'</span>, <span style=\"color: #008000; text-decoration-color: #008000\">'-1'</span>, <span style=\"color: #008000; text-decoration-color: #008000\">'-1'</span>, <span style=\"color: #008000; text-decoration-color: #008000\">'-1'</span>, <span style=\"color: #008000; text-decoration-color: #008000\">'-1'</span>, <span style=\"color: #008000; text-decoration-color: #008000\">'-1'</span>, <span style=\"color: #008000; text-decoration-color: #008000\">'-1'</span>, <span style=\"color: #008000; text-decoration-color: #008000\">'-1'</span>, <span style=\"color: #008000; text-decoration-color: #008000\">'-1'</span>,                     <span style=\"color: #7f7f7f; text-decoration-color: #7f7f7f\">          </span>\n",
       "<span style=\"color: #7fbfbf; text-decoration-color: #7fbfbf\">           </span>        <span style=\"color: #008000; text-decoration-color: #008000\">'-1'</span>, <span style=\"color: #008000; text-decoration-color: #008000\">'-1'</span>, <span style=\"color: #008000; text-decoration-color: #008000\">'-1'</span>, <span style=\"color: #008000; text-decoration-color: #008000\">'-1'</span>, <span style=\"color: #008000; text-decoration-color: #008000\">'-1'</span>, <span style=\"color: #008000; text-decoration-color: #008000\">'-1'</span>, <span style=\"color: #008000; text-decoration-color: #008000\">'-1'</span>, <span style=\"color: #008000; text-decoration-color: #008000\">'-1'</span>, <span style=\"color: #008000; text-decoration-color: #008000\">'-1'</span>, <span style=\"color: #008000; text-decoration-color: #008000\">'-1'</span>, <span style=\"color: #008000; text-decoration-color: #008000\">'-1'</span>,                     <span style=\"color: #7f7f7f; text-decoration-color: #7f7f7f\">          </span>\n",
       "<span style=\"color: #7fbfbf; text-decoration-color: #7fbfbf\">           </span>        <span style=\"color: #008000; text-decoration-color: #008000\">'-1'</span>, <span style=\"color: #008000; text-decoration-color: #008000\">'-1'</span>, <span style=\"color: #008000; text-decoration-color: #008000\">'-1'</span>, <span style=\"color: #008000; text-decoration-color: #008000\">'-1'</span>, <span style=\"color: #008000; text-decoration-color: #008000\">'-1'</span>, <span style=\"color: #008000; text-decoration-color: #008000\">'-1'</span>, <span style=\"color: #008000; text-decoration-color: #008000\">'-1'</span>, <span style=\"color: #008000; text-decoration-color: #008000\">'-1'</span>, <span style=\"color: #008000; text-decoration-color: #008000\">'-1'</span>, <span style=\"color: #008000; text-decoration-color: #008000\">'-1'</span><span style=\"font-weight: bold\">]</span>,                          <span style=\"color: #7f7f7f; text-decoration-color: #7f7f7f\">          </span>\n",
       "<span style=\"color: #7fbfbf; text-decoration-color: #7fbfbf\">           </span>       <span style=\"font-weight: bold\">[</span><span style=\"color: #008000; text-decoration-color: #008000\">'-1'</span>, <span style=\"color: #008000; text-decoration-color: #008000\">'-1'</span>, <span style=\"color: #008000; text-decoration-color: #008000\">'-1'</span>, <span style=\"color: #008000; text-decoration-color: #008000\">'-1'</span>, <span style=\"color: #008000; text-decoration-color: #008000\">'-1'</span>, <span style=\"color: #008000; text-decoration-color: #008000\">'-1'</span>, <span style=\"color: #008000; text-decoration-color: #008000\">'-1'</span>, <span style=\"color: #008000; text-decoration-color: #008000\">'-1'</span>, <span style=\"color: #008000; text-decoration-color: #008000\">'-1'</span>, <span style=\"color: #008000; text-decoration-color: #008000\">'-1'</span>, <span style=\"color: #008000; text-decoration-color: #008000\">'-1'</span>,                     <span style=\"color: #7f7f7f; text-decoration-color: #7f7f7f\">          </span>\n",
       "<span style=\"color: #7fbfbf; text-decoration-color: #7fbfbf\">           </span>        <span style=\"color: #008000; text-decoration-color: #008000\">'-1'</span>, <span style=\"color: #008000; text-decoration-color: #008000\">'-1'</span>, <span style=\"color: #008000; text-decoration-color: #008000\">'-1'</span>, <span style=\"color: #008000; text-decoration-color: #008000\">'-1'</span>, <span style=\"color: #008000; text-decoration-color: #008000\">'-1'</span>, <span style=\"color: #008000; text-decoration-color: #008000\">'-1'</span>, <span style=\"color: #008000; text-decoration-color: #008000\">'-1'</span>, <span style=\"color: #008000; text-decoration-color: #008000\">'-1'</span>, <span style=\"color: #008000; text-decoration-color: #008000\">'-1'</span>, <span style=\"color: #008000; text-decoration-color: #008000\">'-1'</span>, <span style=\"color: #008000; text-decoration-color: #008000\">'-1'</span>,                     <span style=\"color: #7f7f7f; text-decoration-color: #7f7f7f\">          </span>\n",
       "<span style=\"color: #7fbfbf; text-decoration-color: #7fbfbf\">           </span>        <span style=\"color: #008000; text-decoration-color: #008000\">'-1'</span>, <span style=\"color: #008000; text-decoration-color: #008000\">'-1'</span>, <span style=\"color: #008000; text-decoration-color: #008000\">'-1'</span>, <span style=\"color: #008000; text-decoration-color: #008000\">'-1'</span>, <span style=\"color: #008000; text-decoration-color: #008000\">'-1'</span>, <span style=\"color: #008000; text-decoration-color: #008000\">'-1'</span>, <span style=\"color: #008000; text-decoration-color: #008000\">'-1'</span>, <span style=\"color: #008000; text-decoration-color: #008000\">'-1'</span>, <span style=\"color: #008000; text-decoration-color: #008000\">'-1'</span>, <span style=\"color: #008000; text-decoration-color: #008000\">'-1'</span><span style=\"font-weight: bold\">]</span>,                          <span style=\"color: #7f7f7f; text-decoration-color: #7f7f7f\">          </span>\n",
       "<span style=\"color: #7fbfbf; text-decoration-color: #7fbfbf\">           </span>       <span style=\"font-weight: bold\">[</span><span style=\"color: #008000; text-decoration-color: #008000\">'-1'</span>, <span style=\"color: #008000; text-decoration-color: #008000\">'-1'</span>, <span style=\"color: #008000; text-decoration-color: #008000\">'-1'</span>, <span style=\"color: #008000; text-decoration-color: #008000\">'-1'</span>, <span style=\"color: #008000; text-decoration-color: #008000\">'-1'</span>, <span style=\"color: #008000; text-decoration-color: #008000\">'-1'</span>, <span style=\"color: #008000; text-decoration-color: #008000\">'-1'</span>, <span style=\"color: #008000; text-decoration-color: #008000\">'-1'</span>, <span style=\"color: #008000; text-decoration-color: #008000\">'-1'</span>, <span style=\"color: #008000; text-decoration-color: #008000\">'-1'</span>, <span style=\"color: #008000; text-decoration-color: #008000\">'-1'</span>,                     <span style=\"color: #7f7f7f; text-decoration-color: #7f7f7f\">          </span>\n",
       "<span style=\"color: #7fbfbf; text-decoration-color: #7fbfbf\">           </span>        <span style=\"color: #008000; text-decoration-color: #008000\">'-1'</span>, <span style=\"color: #008000; text-decoration-color: #008000\">'-1'</span>, <span style=\"color: #008000; text-decoration-color: #008000\">'-1'</span>, <span style=\"color: #008000; text-decoration-color: #008000\">'-1'</span>, <span style=\"color: #008000; text-decoration-color: #008000\">'-1'</span>, <span style=\"color: #008000; text-decoration-color: #008000\">'-1'</span>, <span style=\"color: #008000; text-decoration-color: #008000\">'-1'</span>, <span style=\"color: #008000; text-decoration-color: #008000\">'-1'</span>, <span style=\"color: #008000; text-decoration-color: #008000\">'-1'</span>, <span style=\"color: #008000; text-decoration-color: #008000\">'-1'</span>, <span style=\"color: #008000; text-decoration-color: #008000\">'-1'</span>,                     <span style=\"color: #7f7f7f; text-decoration-color: #7f7f7f\">          </span>\n",
       "<span style=\"color: #7fbfbf; text-decoration-color: #7fbfbf\">           </span>        <span style=\"color: #008000; text-decoration-color: #008000\">'-1'</span>, <span style=\"color: #008000; text-decoration-color: #008000\">'-1'</span>, <span style=\"color: #008000; text-decoration-color: #008000\">'-1'</span>, <span style=\"color: #008000; text-decoration-color: #008000\">'-1'</span>, <span style=\"color: #008000; text-decoration-color: #008000\">'-1'</span>, <span style=\"color: #008000; text-decoration-color: #008000\">'-1'</span>, <span style=\"color: #008000; text-decoration-color: #008000\">'-1'</span>, <span style=\"color: #008000; text-decoration-color: #008000\">'-1'</span>, <span style=\"color: #008000; text-decoration-color: #008000\">'-1'</span>, <span style=\"color: #008000; text-decoration-color: #008000\">'-1'</span><span style=\"font-weight: bold\">]</span>,                          <span style=\"color: #7f7f7f; text-decoration-color: #7f7f7f\">          </span>\n",
       "<span style=\"color: #7fbfbf; text-decoration-color: #7fbfbf\">           </span>       <span style=\"font-weight: bold\">[</span><span style=\"color: #008000; text-decoration-color: #008000\">'-1'</span>, <span style=\"color: #008000; text-decoration-color: #008000\">'-1'</span>, <span style=\"color: #008000; text-decoration-color: #008000\">'-1'</span>, <span style=\"color: #008000; text-decoration-color: #008000\">'-1'</span>, <span style=\"color: #008000; text-decoration-color: #008000\">'-1'</span>, <span style=\"color: #008000; text-decoration-color: #008000\">'-1'</span>, <span style=\"color: #008000; text-decoration-color: #008000\">'-1'</span>, <span style=\"color: #008000; text-decoration-color: #008000\">'-1'</span>, <span style=\"color: #008000; text-decoration-color: #008000\">'-1'</span>, <span style=\"color: #008000; text-decoration-color: #008000\">'-1'</span>, <span style=\"color: #008000; text-decoration-color: #008000\">'-1'</span>,                     <span style=\"color: #7f7f7f; text-decoration-color: #7f7f7f\">          </span>\n",
       "<span style=\"color: #7fbfbf; text-decoration-color: #7fbfbf\">           </span>        <span style=\"color: #008000; text-decoration-color: #008000\">'-1'</span>, <span style=\"color: #008000; text-decoration-color: #008000\">'-1'</span>, <span style=\"color: #008000; text-decoration-color: #008000\">'-1'</span>, <span style=\"color: #008000; text-decoration-color: #008000\">'-1'</span>, <span style=\"color: #008000; text-decoration-color: #008000\">'-1'</span>, <span style=\"color: #008000; text-decoration-color: #008000\">'-1'</span>, <span style=\"color: #008000; text-decoration-color: #008000\">'-1'</span>, <span style=\"color: #008000; text-decoration-color: #008000\">'-1'</span>, <span style=\"color: #008000; text-decoration-color: #008000\">'-1'</span>, <span style=\"color: #008000; text-decoration-color: #008000\">'-1'</span>, <span style=\"color: #008000; text-decoration-color: #008000\">'-1'</span>,                     <span style=\"color: #7f7f7f; text-decoration-color: #7f7f7f\">          </span>\n",
       "<span style=\"color: #7fbfbf; text-decoration-color: #7fbfbf\">           </span>        <span style=\"color: #008000; text-decoration-color: #008000\">'-1'</span>, <span style=\"color: #008000; text-decoration-color: #008000\">'-1'</span>, <span style=\"color: #008000; text-decoration-color: #008000\">'-1'</span>, <span style=\"color: #008000; text-decoration-color: #008000\">'-1'</span>, <span style=\"color: #008000; text-decoration-color: #008000\">'-1'</span>, <span style=\"color: #008000; text-decoration-color: #008000\">'-1'</span>, <span style=\"color: #008000; text-decoration-color: #008000\">'-1'</span>, <span style=\"color: #008000; text-decoration-color: #008000\">'-1'</span>, <span style=\"color: #008000; text-decoration-color: #008000\">'-1'</span>, <span style=\"color: #008000; text-decoration-color: #008000\">'-1'</span><span style=\"font-weight: bold\">]</span>,                          <span style=\"color: #7f7f7f; text-decoration-color: #7f7f7f\">          </span>\n",
       "<span style=\"color: #7fbfbf; text-decoration-color: #7fbfbf\">           </span>       <span style=\"font-weight: bold\">[</span><span style=\"color: #008000; text-decoration-color: #008000\">'-1'</span>, <span style=\"color: #008000; text-decoration-color: #008000\">'-1'</span>, <span style=\"color: #008000; text-decoration-color: #008000\">'-1'</span>, <span style=\"color: #008000; text-decoration-color: #008000\">'-1'</span>, <span style=\"color: #008000; text-decoration-color: #008000\">'-1'</span>, <span style=\"color: #008000; text-decoration-color: #008000\">'-1'</span>, <span style=\"color: #008000; text-decoration-color: #008000\">'-1'</span>, <span style=\"color: #008000; text-decoration-color: #008000\">'-1'</span>, <span style=\"color: #008000; text-decoration-color: #008000\">'-1'</span>, <span style=\"color: #008000; text-decoration-color: #008000\">'-1'</span>, <span style=\"color: #008000; text-decoration-color: #008000\">'-1'</span>,                     <span style=\"color: #7f7f7f; text-decoration-color: #7f7f7f\">          </span>\n",
       "<span style=\"color: #7fbfbf; text-decoration-color: #7fbfbf\">           </span>        <span style=\"color: #008000; text-decoration-color: #008000\">'-1'</span>, <span style=\"color: #008000; text-decoration-color: #008000\">'-1'</span>, <span style=\"color: #008000; text-decoration-color: #008000\">'-1'</span>, <span style=\"color: #008000; text-decoration-color: #008000\">'-1'</span>, <span style=\"color: #008000; text-decoration-color: #008000\">'-1'</span>, <span style=\"color: #008000; text-decoration-color: #008000\">'-1'</span>, <span style=\"color: #008000; text-decoration-color: #008000\">'-1'</span>, <span style=\"color: #008000; text-decoration-color: #008000\">'-1'</span>, <span style=\"color: #008000; text-decoration-color: #008000\">'-1'</span>, <span style=\"color: #008000; text-decoration-color: #008000\">'-1'</span>, <span style=\"color: #008000; text-decoration-color: #008000\">'-1'</span>,                     <span style=\"color: #7f7f7f; text-decoration-color: #7f7f7f\">          </span>\n",
       "<span style=\"color: #7fbfbf; text-decoration-color: #7fbfbf\">           </span>        <span style=\"color: #008000; text-decoration-color: #008000\">'-1'</span>, <span style=\"color: #008000; text-decoration-color: #008000\">'-1'</span>, <span style=\"color: #008000; text-decoration-color: #008000\">'-1'</span>, <span style=\"color: #008000; text-decoration-color: #008000\">'-1'</span>, <span style=\"color: #008000; text-decoration-color: #008000\">'-1'</span>, <span style=\"color: #008000; text-decoration-color: #008000\">'-1'</span>, <span style=\"color: #008000; text-decoration-color: #008000\">'-1'</span>, <span style=\"color: #008000; text-decoration-color: #008000\">'-1'</span>, <span style=\"color: #008000; text-decoration-color: #008000\">'-1'</span>, <span style=\"color: #008000; text-decoration-color: #008000\">'-1'</span><span style=\"font-weight: bold\">]</span>,                          <span style=\"color: #7f7f7f; text-decoration-color: #7f7f7f\">          </span>\n",
       "<span style=\"color: #7fbfbf; text-decoration-color: #7fbfbf\">           </span>       <span style=\"font-weight: bold\">[</span><span style=\"color: #008000; text-decoration-color: #008000\">'-1'</span>, <span style=\"color: #008000; text-decoration-color: #008000\">'-1'</span>, <span style=\"color: #008000; text-decoration-color: #008000\">'-1'</span>, <span style=\"color: #008000; text-decoration-color: #008000\">'-1'</span>, <span style=\"color: #008000; text-decoration-color: #008000\">'-1'</span>, <span style=\"color: #008000; text-decoration-color: #008000\">'-1'</span>, <span style=\"color: #008000; text-decoration-color: #008000\">'-1'</span>, <span style=\"color: #008000; text-decoration-color: #008000\">'-1'</span>, <span style=\"color: #008000; text-decoration-color: #008000\">'-1'</span>, <span style=\"color: #008000; text-decoration-color: #008000\">'-1'</span>, <span style=\"color: #008000; text-decoration-color: #008000\">'-1'</span>,                     <span style=\"color: #7f7f7f; text-decoration-color: #7f7f7f\">          </span>\n",
       "<span style=\"color: #7fbfbf; text-decoration-color: #7fbfbf\">           </span>        <span style=\"color: #008000; text-decoration-color: #008000\">'-1'</span>, <span style=\"color: #008000; text-decoration-color: #008000\">'-1'</span>, <span style=\"color: #008000; text-decoration-color: #008000\">'-1'</span>, <span style=\"color: #008000; text-decoration-color: #008000\">'-1'</span>, <span style=\"color: #008000; text-decoration-color: #008000\">'-1'</span>, <span style=\"color: #008000; text-decoration-color: #008000\">'-1'</span>, <span style=\"color: #008000; text-decoration-color: #008000\">'-1'</span>, <span style=\"color: #008000; text-decoration-color: #008000\">'-1'</span>, <span style=\"color: #008000; text-decoration-color: #008000\">'-1'</span>, <span style=\"color: #008000; text-decoration-color: #008000\">'-1'</span>, <span style=\"color: #008000; text-decoration-color: #008000\">'-1'</span>,                     <span style=\"color: #7f7f7f; text-decoration-color: #7f7f7f\">          </span>\n",
       "<span style=\"color: #7fbfbf; text-decoration-color: #7fbfbf\">           </span>        <span style=\"color: #008000; text-decoration-color: #008000\">'-1'</span>, <span style=\"color: #008000; text-decoration-color: #008000\">'-1'</span>, <span style=\"color: #008000; text-decoration-color: #008000\">'-1'</span>, <span style=\"color: #008000; text-decoration-color: #008000\">'-1'</span>, <span style=\"color: #008000; text-decoration-color: #008000\">'-1'</span>, <span style=\"color: #008000; text-decoration-color: #008000\">'-1'</span>, <span style=\"color: #008000; text-decoration-color: #008000\">'-1'</span>, <span style=\"color: #008000; text-decoration-color: #008000\">'-1'</span>, <span style=\"color: #008000; text-decoration-color: #008000\">'-1'</span>, <span style=\"color: #008000; text-decoration-color: #008000\">'-1'</span><span style=\"font-weight: bold\">]</span>,                          <span style=\"color: #7f7f7f; text-decoration-color: #7f7f7f\">          </span>\n",
       "<span style=\"color: #7fbfbf; text-decoration-color: #7fbfbf\">           </span>       <span style=\"font-weight: bold\">[</span><span style=\"color: #008000; text-decoration-color: #008000\">'-1'</span>, <span style=\"color: #008000; text-decoration-color: #008000\">'-1'</span>, <span style=\"color: #008000; text-decoration-color: #008000\">'-1'</span>, <span style=\"color: #008000; text-decoration-color: #008000\">'-1'</span>, <span style=\"color: #008000; text-decoration-color: #008000\">'-1'</span>, <span style=\"color: #008000; text-decoration-color: #008000\">'-1'</span>, <span style=\"color: #008000; text-decoration-color: #008000\">'-1'</span>, <span style=\"color: #008000; text-decoration-color: #008000\">'-1'</span>, <span style=\"color: #008000; text-decoration-color: #008000\">'-1'</span>, <span style=\"color: #008000; text-decoration-color: #008000\">'-1'</span>, <span style=\"color: #008000; text-decoration-color: #008000\">'-1'</span>,                     <span style=\"color: #7f7f7f; text-decoration-color: #7f7f7f\">          </span>\n",
       "<span style=\"color: #7fbfbf; text-decoration-color: #7fbfbf\">           </span>        <span style=\"color: #008000; text-decoration-color: #008000\">'-1'</span>, <span style=\"color: #008000; text-decoration-color: #008000\">'-1'</span>, <span style=\"color: #008000; text-decoration-color: #008000\">'-1'</span>, <span style=\"color: #008000; text-decoration-color: #008000\">'-1'</span>, <span style=\"color: #008000; text-decoration-color: #008000\">'-1'</span>, <span style=\"color: #008000; text-decoration-color: #008000\">'-1'</span>, <span style=\"color: #008000; text-decoration-color: #008000\">'-1'</span>, <span style=\"color: #008000; text-decoration-color: #008000\">'-1'</span>, <span style=\"color: #008000; text-decoration-color: #008000\">'-1'</span>, <span style=\"color: #008000; text-decoration-color: #008000\">'-1'</span>, <span style=\"color: #008000; text-decoration-color: #008000\">'-1'</span>,                     <span style=\"color: #7f7f7f; text-decoration-color: #7f7f7f\">          </span>\n",
       "<span style=\"color: #7fbfbf; text-decoration-color: #7fbfbf\">           </span>        <span style=\"color: #008000; text-decoration-color: #008000\">'-1'</span>, <span style=\"color: #008000; text-decoration-color: #008000\">'-1'</span>, <span style=\"color: #008000; text-decoration-color: #008000\">'-1'</span>, <span style=\"color: #008000; text-decoration-color: #008000\">'-1'</span>, <span style=\"color: #008000; text-decoration-color: #008000\">'-1'</span>, <span style=\"color: #008000; text-decoration-color: #008000\">'-1'</span>, <span style=\"color: #008000; text-decoration-color: #008000\">'-1'</span>, <span style=\"color: #008000; text-decoration-color: #008000\">'-1'</span>, <span style=\"color: #008000; text-decoration-color: #008000\">'-1'</span>, <span style=\"color: #008000; text-decoration-color: #008000\">'-1'</span><span style=\"font-weight: bold\">]</span>,                          <span style=\"color: #7f7f7f; text-decoration-color: #7f7f7f\">          </span>\n",
       "<span style=\"color: #7fbfbf; text-decoration-color: #7fbfbf\">           </span>       <span style=\"font-weight: bold\">[</span><span style=\"color: #008000; text-decoration-color: #008000\">'-1'</span>, <span style=\"color: #008000; text-decoration-color: #008000\">'-1'</span>, <span style=\"color: #008000; text-decoration-color: #008000\">'-1'</span>, <span style=\"color: #008000; text-decoration-color: #008000\">'-1'</span>, <span style=\"color: #008000; text-decoration-color: #008000\">'-1'</span>, <span style=\"color: #008000; text-decoration-color: #008000\">'-1'</span>, <span style=\"color: #008000; text-decoration-color: #008000\">'-1'</span>, <span style=\"color: #008000; text-decoration-color: #008000\">'-1'</span>, <span style=\"color: #008000; text-decoration-color: #008000\">'-1'</span>, <span style=\"color: #008000; text-decoration-color: #008000\">'-1'</span>, <span style=\"color: #008000; text-decoration-color: #008000\">'-1'</span>,                     <span style=\"color: #7f7f7f; text-decoration-color: #7f7f7f\">          </span>\n",
       "<span style=\"color: #7fbfbf; text-decoration-color: #7fbfbf\">           </span>        <span style=\"color: #008000; text-decoration-color: #008000\">'-1'</span>, <span style=\"color: #008000; text-decoration-color: #008000\">'-1'</span>, <span style=\"color: #008000; text-decoration-color: #008000\">'-1'</span>, <span style=\"color: #008000; text-decoration-color: #008000\">'-1'</span>, <span style=\"color: #008000; text-decoration-color: #008000\">'-1'</span>, <span style=\"color: #008000; text-decoration-color: #008000\">'-1'</span>, <span style=\"color: #008000; text-decoration-color: #008000\">'-1'</span>, <span style=\"color: #008000; text-decoration-color: #008000\">'-1'</span>, <span style=\"color: #008000; text-decoration-color: #008000\">'-1'</span>, <span style=\"color: #008000; text-decoration-color: #008000\">'-1'</span>, <span style=\"color: #008000; text-decoration-color: #008000\">'-1'</span>,                     <span style=\"color: #7f7f7f; text-decoration-color: #7f7f7f\">          </span>\n",
       "<span style=\"color: #7fbfbf; text-decoration-color: #7fbfbf\">           </span>        <span style=\"color: #008000; text-decoration-color: #008000\">'-1'</span>, <span style=\"color: #008000; text-decoration-color: #008000\">'-1'</span>, <span style=\"color: #008000; text-decoration-color: #008000\">'-1'</span>, <span style=\"color: #008000; text-decoration-color: #008000\">'-1'</span>, <span style=\"color: #008000; text-decoration-color: #008000\">'-1'</span>, <span style=\"color: #008000; text-decoration-color: #008000\">'-1'</span>, <span style=\"color: #008000; text-decoration-color: #008000\">'-1'</span>, <span style=\"color: #008000; text-decoration-color: #008000\">'-1'</span>, <span style=\"color: #008000; text-decoration-color: #008000\">'-1'</span>, <span style=\"color: #008000; text-decoration-color: #008000\">'-1'</span><span style=\"font-weight: bold\">]</span>,                          <span style=\"color: #7f7f7f; text-decoration-color: #7f7f7f\">          </span>\n",
       "<span style=\"color: #7fbfbf; text-decoration-color: #7fbfbf\">           </span>       <span style=\"font-weight: bold\">[</span><span style=\"color: #008000; text-decoration-color: #008000\">'-1'</span>, <span style=\"color: #008000; text-decoration-color: #008000\">'-1'</span>, <span style=\"color: #008000; text-decoration-color: #008000\">'-1'</span>, <span style=\"color: #008000; text-decoration-color: #008000\">'-1'</span>, <span style=\"color: #008000; text-decoration-color: #008000\">'-1'</span>, <span style=\"color: #008000; text-decoration-color: #008000\">'-1'</span>, <span style=\"color: #008000; text-decoration-color: #008000\">'-1'</span>, <span style=\"color: #008000; text-decoration-color: #008000\">'-1'</span>, <span style=\"color: #008000; text-decoration-color: #008000\">'-1'</span>, <span style=\"color: #008000; text-decoration-color: #008000\">'-1'</span>, <span style=\"color: #008000; text-decoration-color: #008000\">'-1'</span>,                     <span style=\"color: #7f7f7f; text-decoration-color: #7f7f7f\">          </span>\n",
       "<span style=\"color: #7fbfbf; text-decoration-color: #7fbfbf\">           </span>        <span style=\"color: #008000; text-decoration-color: #008000\">'-1'</span>, <span style=\"color: #008000; text-decoration-color: #008000\">'-1'</span>, <span style=\"color: #008000; text-decoration-color: #008000\">'-1'</span>, <span style=\"color: #008000; text-decoration-color: #008000\">'-1'</span>, <span style=\"color: #008000; text-decoration-color: #008000\">'-1'</span>, <span style=\"color: #008000; text-decoration-color: #008000\">'-1'</span>, <span style=\"color: #008000; text-decoration-color: #008000\">'-1'</span>, <span style=\"color: #008000; text-decoration-color: #008000\">'-1'</span>, <span style=\"color: #008000; text-decoration-color: #008000\">'-1'</span>, <span style=\"color: #008000; text-decoration-color: #008000\">'-1'</span>, <span style=\"color: #008000; text-decoration-color: #008000\">'-1'</span>,                     <span style=\"color: #7f7f7f; text-decoration-color: #7f7f7f\">          </span>\n",
       "<span style=\"color: #7fbfbf; text-decoration-color: #7fbfbf\">           </span>        <span style=\"color: #008000; text-decoration-color: #008000\">'-1'</span>, <span style=\"color: #008000; text-decoration-color: #008000\">'-1'</span>, <span style=\"color: #008000; text-decoration-color: #008000\">'-1'</span>, <span style=\"color: #008000; text-decoration-color: #008000\">'-1'</span>, <span style=\"color: #008000; text-decoration-color: #008000\">'-1'</span>, <span style=\"color: #008000; text-decoration-color: #008000\">'-1'</span>, <span style=\"color: #008000; text-decoration-color: #008000\">'-1'</span>, <span style=\"color: #008000; text-decoration-color: #008000\">'-1'</span>, <span style=\"color: #008000; text-decoration-color: #008000\">'-1'</span>, <span style=\"color: #008000; text-decoration-color: #008000\">'-1'</span><span style=\"font-weight: bold\">]</span>,                          <span style=\"color: #7f7f7f; text-decoration-color: #7f7f7f\">          </span>\n",
       "<span style=\"color: #7fbfbf; text-decoration-color: #7fbfbf\">           </span>       <span style=\"font-weight: bold\">[</span><span style=\"color: #008000; text-decoration-color: #008000\">'-1'</span>, <span style=\"color: #008000; text-decoration-color: #008000\">'-1'</span>, <span style=\"color: #008000; text-decoration-color: #008000\">'-1'</span>, <span style=\"color: #008000; text-decoration-color: #008000\">'-1'</span>, <span style=\"color: #008000; text-decoration-color: #008000\">'-1'</span>, <span style=\"color: #008000; text-decoration-color: #008000\">'-1'</span>, <span style=\"color: #008000; text-decoration-color: #008000\">'-1'</span>, <span style=\"color: #008000; text-decoration-color: #008000\">'-1'</span>, <span style=\"color: #008000; text-decoration-color: #008000\">'-1'</span>, <span style=\"color: #008000; text-decoration-color: #008000\">'-1'</span>, <span style=\"color: #008000; text-decoration-color: #008000\">'-1'</span>,                     <span style=\"color: #7f7f7f; text-decoration-color: #7f7f7f\">          </span>\n",
       "<span style=\"color: #7fbfbf; text-decoration-color: #7fbfbf\">           </span>        <span style=\"color: #008000; text-decoration-color: #008000\">'-1'</span>, <span style=\"color: #008000; text-decoration-color: #008000\">'-1'</span>, <span style=\"color: #008000; text-decoration-color: #008000\">'-1'</span>, <span style=\"color: #008000; text-decoration-color: #008000\">'-1'</span>, <span style=\"color: #008000; text-decoration-color: #008000\">'-1'</span>, <span style=\"color: #008000; text-decoration-color: #008000\">'-1'</span>, <span style=\"color: #008000; text-decoration-color: #008000\">'-1'</span>, <span style=\"color: #008000; text-decoration-color: #008000\">'-1'</span>, <span style=\"color: #008000; text-decoration-color: #008000\">'-1'</span>, <span style=\"color: #008000; text-decoration-color: #008000\">'-1'</span>, <span style=\"color: #008000; text-decoration-color: #008000\">'-1'</span>,                     <span style=\"color: #7f7f7f; text-decoration-color: #7f7f7f\">          </span>\n",
       "<span style=\"color: #7fbfbf; text-decoration-color: #7fbfbf\">           </span>        <span style=\"color: #008000; text-decoration-color: #008000\">'-1'</span>, <span style=\"color: #008000; text-decoration-color: #008000\">'-1'</span>, <span style=\"color: #008000; text-decoration-color: #008000\">'-1'</span>, <span style=\"color: #008000; text-decoration-color: #008000\">'-1'</span>, <span style=\"color: #008000; text-decoration-color: #008000\">'-1'</span>, <span style=\"color: #008000; text-decoration-color: #008000\">'-1'</span>, <span style=\"color: #008000; text-decoration-color: #008000\">'-1'</span>, <span style=\"color: #008000; text-decoration-color: #008000\">'-1'</span>, <span style=\"color: #008000; text-decoration-color: #008000\">'-1'</span>, <span style=\"color: #008000; text-decoration-color: #008000\">'-1'</span><span style=\"font-weight: bold\">]</span>,                          <span style=\"color: #7f7f7f; text-decoration-color: #7f7f7f\">          </span>\n",
       "<span style=\"color: #7fbfbf; text-decoration-color: #7fbfbf\">           </span>       <span style=\"font-weight: bold\">[</span><span style=\"color: #008000; text-decoration-color: #008000\">'-1'</span>, <span style=\"color: #008000; text-decoration-color: #008000\">'-1'</span>, <span style=\"color: #008000; text-decoration-color: #008000\">'-1'</span>, <span style=\"color: #008000; text-decoration-color: #008000\">'-1'</span>, <span style=\"color: #008000; text-decoration-color: #008000\">'-1'</span>, <span style=\"color: #008000; text-decoration-color: #008000\">'-1'</span>, <span style=\"color: #008000; text-decoration-color: #008000\">'-1'</span>, <span style=\"color: #008000; text-decoration-color: #008000\">'-1'</span>, <span style=\"color: #008000; text-decoration-color: #008000\">'-1'</span>, <span style=\"color: #008000; text-decoration-color: #008000\">'-1'</span>, <span style=\"color: #008000; text-decoration-color: #008000\">'-1'</span>,                     <span style=\"color: #7f7f7f; text-decoration-color: #7f7f7f\">          </span>\n",
       "<span style=\"color: #7fbfbf; text-decoration-color: #7fbfbf\">           </span>        <span style=\"color: #008000; text-decoration-color: #008000\">'-1'</span>, <span style=\"color: #008000; text-decoration-color: #008000\">'-1'</span>, <span style=\"color: #008000; text-decoration-color: #008000\">'-1'</span>, <span style=\"color: #008000; text-decoration-color: #008000\">'-1'</span>, <span style=\"color: #008000; text-decoration-color: #008000\">'-1'</span>, <span style=\"color: #008000; text-decoration-color: #008000\">'-1'</span>, <span style=\"color: #008000; text-decoration-color: #008000\">'-1'</span>, <span style=\"color: #008000; text-decoration-color: #008000\">'-1'</span>, <span style=\"color: #008000; text-decoration-color: #008000\">'-1'</span>, <span style=\"color: #008000; text-decoration-color: #008000\">'-1'</span>, <span style=\"color: #008000; text-decoration-color: #008000\">'-1'</span>,                     <span style=\"color: #7f7f7f; text-decoration-color: #7f7f7f\">          </span>\n",
       "<span style=\"color: #7fbfbf; text-decoration-color: #7fbfbf\">           </span>        <span style=\"color: #008000; text-decoration-color: #008000\">'-1'</span>, <span style=\"color: #008000; text-decoration-color: #008000\">'-1'</span>, <span style=\"color: #008000; text-decoration-color: #008000\">'-1'</span>, <span style=\"color: #008000; text-decoration-color: #008000\">'-1'</span>, <span style=\"color: #008000; text-decoration-color: #008000\">'-1'</span>, <span style=\"color: #008000; text-decoration-color: #008000\">'-1'</span>, <span style=\"color: #008000; text-decoration-color: #008000\">'-1'</span>, <span style=\"color: #008000; text-decoration-color: #008000\">'-1'</span>, <span style=\"color: #008000; text-decoration-color: #008000\">'-1'</span>, <span style=\"color: #008000; text-decoration-color: #008000\">'-1'</span><span style=\"font-weight: bold\">]</span>,                          <span style=\"color: #7f7f7f; text-decoration-color: #7f7f7f\">          </span>\n",
       "<span style=\"color: #7fbfbf; text-decoration-color: #7fbfbf\">           </span>       <span style=\"font-weight: bold\">[</span><span style=\"color: #008000; text-decoration-color: #008000\">'-1'</span>, <span style=\"color: #008000; text-decoration-color: #008000\">'-1'</span>, <span style=\"color: #008000; text-decoration-color: #008000\">'-1'</span>, <span style=\"color: #008000; text-decoration-color: #008000\">'-1'</span>, <span style=\"color: #008000; text-decoration-color: #008000\">'-1'</span>, <span style=\"color: #008000; text-decoration-color: #008000\">'-1'</span>, <span style=\"color: #008000; text-decoration-color: #008000\">'-1'</span>, <span style=\"color: #008000; text-decoration-color: #008000\">'-1'</span>, <span style=\"color: #008000; text-decoration-color: #008000\">'-1'</span>, <span style=\"color: #008000; text-decoration-color: #008000\">'-1'</span>, <span style=\"color: #008000; text-decoration-color: #008000\">'-1'</span>,                     <span style=\"color: #7f7f7f; text-decoration-color: #7f7f7f\">          </span>\n",
       "<span style=\"color: #7fbfbf; text-decoration-color: #7fbfbf\">           </span>        <span style=\"color: #008000; text-decoration-color: #008000\">'-1'</span>, <span style=\"color: #008000; text-decoration-color: #008000\">'-1'</span>, <span style=\"color: #008000; text-decoration-color: #008000\">'-1'</span>, <span style=\"color: #008000; text-decoration-color: #008000\">'-1'</span>, <span style=\"color: #008000; text-decoration-color: #008000\">'-1'</span>, <span style=\"color: #008000; text-decoration-color: #008000\">'-1'</span>, <span style=\"color: #008000; text-decoration-color: #008000\">'-1'</span>, <span style=\"color: #008000; text-decoration-color: #008000\">'-1'</span>, <span style=\"color: #008000; text-decoration-color: #008000\">'-1'</span>, <span style=\"color: #008000; text-decoration-color: #008000\">'-1'</span>, <span style=\"color: #008000; text-decoration-color: #008000\">'-1'</span>,                     <span style=\"color: #7f7f7f; text-decoration-color: #7f7f7f\">          </span>\n",
       "<span style=\"color: #7fbfbf; text-decoration-color: #7fbfbf\">           </span>        <span style=\"color: #008000; text-decoration-color: #008000\">'-1'</span>, <span style=\"color: #008000; text-decoration-color: #008000\">'-1'</span>, <span style=\"color: #008000; text-decoration-color: #008000\">'-1'</span>, <span style=\"color: #008000; text-decoration-color: #008000\">'-1'</span>, <span style=\"color: #008000; text-decoration-color: #008000\">'-1'</span>, <span style=\"color: #008000; text-decoration-color: #008000\">'-1'</span>, <span style=\"color: #008000; text-decoration-color: #008000\">'-1'</span>, <span style=\"color: #008000; text-decoration-color: #008000\">'-1'</span>, <span style=\"color: #008000; text-decoration-color: #008000\">'-1'</span>, <span style=\"color: #008000; text-decoration-color: #008000\">'-1'</span><span style=\"font-weight: bold\">]</span>,                          <span style=\"color: #7f7f7f; text-decoration-color: #7f7f7f\">          </span>\n",
       "<span style=\"color: #7fbfbf; text-decoration-color: #7fbfbf\">           </span>       <span style=\"font-weight: bold\">[</span><span style=\"color: #008000; text-decoration-color: #008000\">'-1'</span>, <span style=\"color: #008000; text-decoration-color: #008000\">'-1'</span>, <span style=\"color: #008000; text-decoration-color: #008000\">'-1'</span>, <span style=\"color: #008000; text-decoration-color: #008000\">'-1'</span>, <span style=\"color: #008000; text-decoration-color: #008000\">'-1'</span>, <span style=\"color: #008000; text-decoration-color: #008000\">'-1'</span>, <span style=\"color: #008000; text-decoration-color: #008000\">'-1'</span>, <span style=\"color: #008000; text-decoration-color: #008000\">'-1'</span>, <span style=\"color: #008000; text-decoration-color: #008000\">'-1'</span>, <span style=\"color: #008000; text-decoration-color: #008000\">'-1'</span>, <span style=\"color: #008000; text-decoration-color: #008000\">'-1'</span>,                     <span style=\"color: #7f7f7f; text-decoration-color: #7f7f7f\">          </span>\n",
       "<span style=\"color: #7fbfbf; text-decoration-color: #7fbfbf\">           </span>        <span style=\"color: #008000; text-decoration-color: #008000\">'-1'</span>, <span style=\"color: #008000; text-decoration-color: #008000\">'-1'</span>, <span style=\"color: #008000; text-decoration-color: #008000\">'-1'</span>, <span style=\"color: #008000; text-decoration-color: #008000\">'-1'</span>, <span style=\"color: #008000; text-decoration-color: #008000\">'-1'</span>, <span style=\"color: #008000; text-decoration-color: #008000\">'-1'</span>, <span style=\"color: #008000; text-decoration-color: #008000\">'-1'</span>, <span style=\"color: #008000; text-decoration-color: #008000\">'-1'</span>, <span style=\"color: #008000; text-decoration-color: #008000\">'-1'</span>, <span style=\"color: #008000; text-decoration-color: #008000\">'-1'</span>, <span style=\"color: #008000; text-decoration-color: #008000\">'-1'</span>,                     <span style=\"color: #7f7f7f; text-decoration-color: #7f7f7f\">          </span>\n",
       "<span style=\"color: #7fbfbf; text-decoration-color: #7fbfbf\">           </span>        <span style=\"color: #008000; text-decoration-color: #008000\">'-1'</span>, <span style=\"color: #008000; text-decoration-color: #008000\">'g'</span>, <span style=\"color: #008000; text-decoration-color: #008000\">'g'</span>, <span style=\"color: #008000; text-decoration-color: #008000\">'g'</span>, <span style=\"color: #008000; text-decoration-color: #008000\">'g'</span>, <span style=\"color: #008000; text-decoration-color: #008000\">'g'</span>, <span style=\"color: #008000; text-decoration-color: #008000\">'-1'</span>, <span style=\"color: #008000; text-decoration-color: #008000\">'-1'</span>, <span style=\"color: #008000; text-decoration-color: #008000\">'-1'</span>, <span style=\"color: #008000; text-decoration-color: #008000\">'-1'</span><span style=\"font-weight: bold\">]</span>,                               <span style=\"color: #7f7f7f; text-decoration-color: #7f7f7f\">          </span>\n",
       "<span style=\"color: #7fbfbf; text-decoration-color: #7fbfbf\">           </span>       <span style=\"font-weight: bold\">[</span><span style=\"color: #008000; text-decoration-color: #008000\">'-1'</span>, <span style=\"color: #008000; text-decoration-color: #008000\">'-1'</span>, <span style=\"color: #008000; text-decoration-color: #008000\">'-1'</span>, <span style=\"color: #008000; text-decoration-color: #008000\">'-1'</span>, <span style=\"color: #008000; text-decoration-color: #008000\">'-1'</span>, <span style=\"color: #008000; text-decoration-color: #008000\">'-1'</span>, <span style=\"color: #008000; text-decoration-color: #008000\">'-1'</span>, <span style=\"color: #008000; text-decoration-color: #008000\">'-1'</span>, <span style=\"color: #008000; text-decoration-color: #008000\">'-1'</span>, <span style=\"color: #008000; text-decoration-color: #008000\">'-1'</span>, <span style=\"color: #008000; text-decoration-color: #008000\">'-1'</span>,                     <span style=\"color: #7f7f7f; text-decoration-color: #7f7f7f\">          </span>\n",
       "<span style=\"color: #7fbfbf; text-decoration-color: #7fbfbf\">           </span>        <span style=\"color: #008000; text-decoration-color: #008000\">'-1'</span>, <span style=\"color: #008000; text-decoration-color: #008000\">'-1'</span>, <span style=\"color: #008000; text-decoration-color: #008000\">'-1'</span>, <span style=\"color: #008000; text-decoration-color: #008000\">'-1'</span>, <span style=\"color: #008000; text-decoration-color: #008000\">'-1'</span>, <span style=\"color: #008000; text-decoration-color: #008000\">'-1'</span>, <span style=\"color: #008000; text-decoration-color: #008000\">'-1'</span>, <span style=\"color: #008000; text-decoration-color: #008000\">'-1'</span>, <span style=\"color: #008000; text-decoration-color: #008000\">'-1'</span>, <span style=\"color: #008000; text-decoration-color: #008000\">'-1'</span>, <span style=\"color: #008000; text-decoration-color: #008000\">'-1'</span>,                     <span style=\"color: #7f7f7f; text-decoration-color: #7f7f7f\">          </span>\n",
       "<span style=\"color: #7fbfbf; text-decoration-color: #7fbfbf\">           </span>        <span style=\"color: #008000; text-decoration-color: #008000\">'-1'</span>, <span style=\"color: #008000; text-decoration-color: #008000\">'g'</span>, <span style=\"color: #008000; text-decoration-color: #008000\">'g'</span>, <span style=\"color: #008000; text-decoration-color: #008000\">'g'</span>, <span style=\"color: #008000; text-decoration-color: #008000\">'g'</span>, <span style=\"color: #008000; text-decoration-color: #008000\">'g'</span>, <span style=\"color: #008000; text-decoration-color: #008000\">'-1'</span>, <span style=\"color: #008000; text-decoration-color: #008000\">'-1'</span>, <span style=\"color: #008000; text-decoration-color: #008000\">'-1'</span>, <span style=\"color: #008000; text-decoration-color: #008000\">'-1'</span><span style=\"font-weight: bold\">]</span>,                               <span style=\"color: #7f7f7f; text-decoration-color: #7f7f7f\">          </span>\n",
       "<span style=\"color: #7fbfbf; text-decoration-color: #7fbfbf\">           </span>       <span style=\"font-weight: bold\">[</span><span style=\"color: #008000; text-decoration-color: #008000\">'-1'</span>, <span style=\"color: #008000; text-decoration-color: #008000\">'-1'</span>, <span style=\"color: #008000; text-decoration-color: #008000\">'-1'</span>, <span style=\"color: #008000; text-decoration-color: #008000\">'-1'</span>, <span style=\"color: #008000; text-decoration-color: #008000\">'-1'</span>, <span style=\"color: #008000; text-decoration-color: #008000\">'-1'</span>, <span style=\"color: #008000; text-decoration-color: #008000\">'-1'</span>, <span style=\"color: #008000; text-decoration-color: #008000\">'-1'</span>, <span style=\"color: #008000; text-decoration-color: #008000\">'-1'</span>, <span style=\"color: #008000; text-decoration-color: #008000\">'-1'</span>, <span style=\"color: #008000; text-decoration-color: #008000\">'-1'</span>,                     <span style=\"color: #7f7f7f; text-decoration-color: #7f7f7f\">          </span>\n",
       "<span style=\"color: #7fbfbf; text-decoration-color: #7fbfbf\">           </span>        <span style=\"color: #008000; text-decoration-color: #008000\">'-1'</span>, <span style=\"color: #008000; text-decoration-color: #008000\">'-1'</span>, <span style=\"color: #008000; text-decoration-color: #008000\">'-1'</span>, <span style=\"color: #008000; text-decoration-color: #008000\">'-1'</span>, <span style=\"color: #008000; text-decoration-color: #008000\">'-1'</span>, <span style=\"color: #008000; text-decoration-color: #008000\">'-1'</span>, <span style=\"color: #008000; text-decoration-color: #008000\">'-1'</span>, <span style=\"color: #008000; text-decoration-color: #008000\">'-1'</span>, <span style=\"color: #008000; text-decoration-color: #008000\">'-1'</span>, <span style=\"color: #008000; text-decoration-color: #008000\">'-1'</span>, <span style=\"color: #008000; text-decoration-color: #008000\">'-1'</span>,                     <span style=\"color: #7f7f7f; text-decoration-color: #7f7f7f\">          </span>\n",
       "<span style=\"color: #7fbfbf; text-decoration-color: #7fbfbf\">           </span>        <span style=\"color: #008000; text-decoration-color: #008000\">'-1'</span>, <span style=\"color: #008000; text-decoration-color: #008000\">'g'</span>, <span style=\"color: #008000; text-decoration-color: #008000\">'g'</span>, <span style=\"color: #008000; text-decoration-color: #008000\">'0'</span>, <span style=\"color: #008000; text-decoration-color: #008000\">'g'</span>, <span style=\"color: #008000; text-decoration-color: #008000\">'g'</span>, <span style=\"color: #008000; text-decoration-color: #008000\">'-1'</span>, <span style=\"color: #008000; text-decoration-color: #008000\">'-1'</span>, <span style=\"color: #008000; text-decoration-color: #008000\">'-1'</span>, <span style=\"color: #008000; text-decoration-color: #008000\">'-1'</span><span style=\"font-weight: bold\">]</span>,                               <span style=\"color: #7f7f7f; text-decoration-color: #7f7f7f\">          </span>\n",
       "<span style=\"color: #7fbfbf; text-decoration-color: #7fbfbf\">           </span>       <span style=\"font-weight: bold\">[</span><span style=\"color: #008000; text-decoration-color: #008000\">'-1'</span>, <span style=\"color: #008000; text-decoration-color: #008000\">'-1'</span>, <span style=\"color: #008000; text-decoration-color: #008000\">'-1'</span>, <span style=\"color: #008000; text-decoration-color: #008000\">'-1'</span>, <span style=\"color: #008000; text-decoration-color: #008000\">'-1'</span>, <span style=\"color: #008000; text-decoration-color: #008000\">'-1'</span>, <span style=\"color: #008000; text-decoration-color: #008000\">'-1'</span>, <span style=\"color: #008000; text-decoration-color: #008000\">'-1'</span>, <span style=\"color: #008000; text-decoration-color: #008000\">'-1'</span>, <span style=\"color: #008000; text-decoration-color: #008000\">'-1'</span>, <span style=\"color: #008000; text-decoration-color: #008000\">'-1'</span>,                     <span style=\"color: #7f7f7f; text-decoration-color: #7f7f7f\">          </span>\n",
       "<span style=\"color: #7fbfbf; text-decoration-color: #7fbfbf\">           </span>        <span style=\"color: #008000; text-decoration-color: #008000\">'-1'</span>, <span style=\"color: #008000; text-decoration-color: #008000\">'-1'</span>, <span style=\"color: #008000; text-decoration-color: #008000\">'-1'</span>, <span style=\"color: #008000; text-decoration-color: #008000\">'-1'</span>, <span style=\"color: #008000; text-decoration-color: #008000\">'-1'</span>, <span style=\"color: #008000; text-decoration-color: #008000\">'-1'</span>, <span style=\"color: #008000; text-decoration-color: #008000\">'-1'</span>, <span style=\"color: #008000; text-decoration-color: #008000\">'-1'</span>, <span style=\"color: #008000; text-decoration-color: #008000\">'-1'</span>, <span style=\"color: #008000; text-decoration-color: #008000\">'-1'</span>, <span style=\"color: #008000; text-decoration-color: #008000\">'-1'</span>,                     <span style=\"color: #7f7f7f; text-decoration-color: #7f7f7f\">          </span>\n",
       "<span style=\"color: #7fbfbf; text-decoration-color: #7fbfbf\">           </span>        <span style=\"color: #008000; text-decoration-color: #008000\">'-1'</span>, <span style=\"color: #008000; text-decoration-color: #008000\">'g'</span>, <span style=\"color: #008000; text-decoration-color: #008000\">'g'</span>, <span style=\"color: #008000; text-decoration-color: #008000\">'g'</span>, <span style=\"color: #008000; text-decoration-color: #008000\">'g'</span>, <span style=\"color: #008000; text-decoration-color: #008000\">'g'</span>, <span style=\"color: #008000; text-decoration-color: #008000\">'-1'</span>, <span style=\"color: #008000; text-decoration-color: #008000\">'-1'</span>, <span style=\"color: #008000; text-decoration-color: #008000\">'-1'</span>, <span style=\"color: #008000; text-decoration-color: #008000\">'-1'</span><span style=\"font-weight: bold\">]</span>,                               <span style=\"color: #7f7f7f; text-decoration-color: #7f7f7f\">          </span>\n",
       "<span style=\"color: #7fbfbf; text-decoration-color: #7fbfbf\">           </span>       <span style=\"font-weight: bold\">[</span><span style=\"color: #008000; text-decoration-color: #008000\">'-1'</span>, <span style=\"color: #008000; text-decoration-color: #008000\">'-1'</span>, <span style=\"color: #008000; text-decoration-color: #008000\">'-1'</span>, <span style=\"color: #008000; text-decoration-color: #008000\">'-1'</span>, <span style=\"color: #008000; text-decoration-color: #008000\">'-1'</span>, <span style=\"color: #008000; text-decoration-color: #008000\">'-1'</span>, <span style=\"color: #008000; text-decoration-color: #008000\">'-1'</span>, <span style=\"color: #008000; text-decoration-color: #008000\">'-1'</span>, <span style=\"color: #008000; text-decoration-color: #008000\">'-1'</span>, <span style=\"color: #008000; text-decoration-color: #008000\">'-1'</span>, <span style=\"color: #008000; text-decoration-color: #008000\">'-1'</span>,                     <span style=\"color: #7f7f7f; text-decoration-color: #7f7f7f\">          </span>\n",
       "<span style=\"color: #7fbfbf; text-decoration-color: #7fbfbf\">           </span>        <span style=\"color: #008000; text-decoration-color: #008000\">'-1'</span>, <span style=\"color: #008000; text-decoration-color: #008000\">'-1'</span>, <span style=\"color: #008000; text-decoration-color: #008000\">'-1'</span>, <span style=\"color: #008000; text-decoration-color: #008000\">'-1'</span>, <span style=\"color: #008000; text-decoration-color: #008000\">'-1'</span>, <span style=\"color: #008000; text-decoration-color: #008000\">'-1'</span>, <span style=\"color: #008000; text-decoration-color: #008000\">'-1'</span>, <span style=\"color: #008000; text-decoration-color: #008000\">'-1'</span>, <span style=\"color: #008000; text-decoration-color: #008000\">'-1'</span>, <span style=\"color: #008000; text-decoration-color: #008000\">'-1'</span>, <span style=\"color: #008000; text-decoration-color: #008000\">'-1'</span>,                     <span style=\"color: #7f7f7f; text-decoration-color: #7f7f7f\">          </span>\n",
       "<span style=\"color: #7fbfbf; text-decoration-color: #7fbfbf\">           </span>        <span style=\"color: #008000; text-decoration-color: #008000\">'-1'</span>, <span style=\"color: #008000; text-decoration-color: #008000\">'g'</span>, <span style=\"color: #008000; text-decoration-color: #008000\">'g'</span>, <span style=\"color: #008000; text-decoration-color: #008000\">'g'</span>, <span style=\"color: #008000; text-decoration-color: #008000\">'g'</span>, <span style=\"color: #008000; text-decoration-color: #008000\">'g'</span>, <span style=\"color: #008000; text-decoration-color: #008000\">'-1'</span>, <span style=\"color: #008000; text-decoration-color: #008000\">'-1'</span>, <span style=\"color: #008000; text-decoration-color: #008000\">'-1'</span>, <span style=\"color: #008000; text-decoration-color: #008000\">'-1'</span><span style=\"font-weight: bold\">]]</span>,                              <span style=\"color: #7f7f7f; text-decoration-color: #7f7f7f\">          </span>\n",
       "<span style=\"color: #7fbfbf; text-decoration-color: #7fbfbf\">           </span>      <span style=\"color: #808000; text-decoration-color: #808000\">dtype</span>=<span style=\"color: #008000; text-decoration-color: #008000\">'&lt;U2'</span><span style=\"font-weight: bold\">)</span> <span style=\"color: #808000; text-decoration-color: #808000\">message</span>=<span style=\"color: #008000; text-decoration-color: #008000\">''</span> <span style=\"color: #808000; text-decoration-color: #808000\">in_process_move_messages</span>=<span style=\"font-weight: bold\">[]</span>                                     <span style=\"color: #7f7f7f; text-decoration-color: #7f7f7f\">          </span>\n",
       "</pre>\n"
      ]
     },
     "metadata": {},
     "output_type": "display_data"
    }
   ],
   "execution_count": 27
  },
  {
   "cell_type": "code",
   "id": "4a2120aa-f09f-4290-8f85-0996c954a6ff",
   "metadata": {
    "ExecuteTime": {
     "end_time": "2025-06-02T09:59:43.466559Z",
     "start_time": "2025-06-02T09:59:43.457583Z"
    }
   },
   "source": [
    "c.set_player_name('Hi')"
   ],
   "outputs": [
    {
     "data": {
      "text/plain": [
       "\u001B[2;36m[16:59:43]\u001B[0m\u001B[2;36m \u001B[0m\u001B[1;35m[\u001B[0m\u001B[1;35mCLIENT\u001B[0m\u001B[1;35m]\u001B[0m Send message to server to set name: Hi                                               \u001B[2mlogs.py\u001B[0m\u001B[2m:\u001B[0m\u001B[2m11\u001B[0m\n"
      ],
      "text/html": [
       "<pre style=\"white-space:pre;overflow-x:auto;line-height:normal;font-family:Menlo,'DejaVu Sans Mono',consolas,'Courier New',monospace\"><span style=\"color: #7fbfbf; text-decoration-color: #7fbfbf\">[16:59:43] </span><span style=\"color: #800080; text-decoration-color: #800080; font-weight: bold\">[CLIENT]</span> Send message to server to set name: Hi                                               <span style=\"color: #7f7f7f; text-decoration-color: #7f7f7f\">logs.py:11</span>\n",
       "</pre>\n"
      ]
     },
     "metadata": {},
     "output_type": "display_data"
    },
    {
     "data": {
      "text/plain": [
       "'Hi'"
      ]
     },
     "execution_count": 28,
     "metadata": {},
     "output_type": "execute_result"
    }
   ],
   "execution_count": 28
  },
  {
   "cell_type": "markdown",
   "id": "48f97021-2f10-4af6-90bb-a5b9cdae94d5",
   "metadata": {},
   "source": [
    "### Win condition"
   ]
  },
  {
   "cell_type": "code",
   "id": "98fb66b1-3180-4e77-8a01-e4035e61ab7c",
   "metadata": {
    "ExecuteTime": {
     "end_time": "2025-06-02T09:59:58.197591Z",
     "start_time": "2025-06-02T09:59:54.060154Z"
    }
   },
   "source": [
    "o = OrchestratorAgent()\n",
    "mission_text =  \"\"\"To complete this game, you need to collect 2 units of wood and 2 units of fabric. Every 3 units of cotton can be converted into 1 unit of fabric.\"\"\"\n",
    "o.agent.run_sync(mission_text, \n",
    "        deps = WinCondition(\n",
    "            wood_need=0,\n",
    "            cotton_need=0,\n",
    "            player= c.player))"
   ],
   "outputs": [
    {
     "name": "stdout",
     "output_type": "stream",
     "text": [
      "Validate task: task_description='Calculate resources needed to win the game' explain='To win, I need to collect 2 units of wood and 2 units of fabric. Since every 3 units of cotton can be converted into 1 unit of fabric, I need to collect 6 units of cotton to make the 2 units of fabric.' wood_need=2 cotton_need=6\n"
     ]
    },
    {
     "data": {
      "text/plain": [
       "AgentRunResult(output=CalCulateWinConditionTask(task_description='Calculate resources needed to win the game', explain='To win, I need to collect 2 units of wood and 2 units of fabric. Since every 3 units of cotton can be converted into 1 unit of fabric, I need to collect 6 units of cotton to make the 2 units of fabric.', wood_need=2, cotton_need=6))"
      ]
     },
     "execution_count": 29,
     "metadata": {},
     "output_type": "execute_result"
    }
   ],
   "execution_count": 29
  },
  {
   "cell_type": "markdown",
   "id": "41168646-12c7-44f7-8af9-89bd466ae82a",
   "metadata": {},
   "source": [
    "### Resource Need"
   ]
  },
  {
   "cell_type": "code",
   "id": "029ed937-25ff-41c8-b0e2-b7eda6f768e4",
   "metadata": {
    "ExecuteTime": {
     "end_time": "2025-06-02T10:00:10.070778Z",
     "start_time": "2025-06-02T10:00:07.353274Z"
    }
   },
   "source": [
    "c.allow_collect_items()\n",
    "c.player.store = ['c','c','w','w','w'] \n",
    "o = OrchestratorAgent()\n",
    "mission_text =  \"\"\"Do no suggest condition win task. What task i should to do next?\"\"\"\n",
    "o.agent.run_sync(mission_text, \n",
    "        deps = WinCondition(\n",
    "            wood_need=5,\n",
    "            cotton_need=4,\n",
    "            player= c.player))"
   ],
   "outputs": [
    {
     "name": "stdout",
     "output_type": "stream",
     "text": [
      "Validate task: task_description='Discover the map to search for resources.'\n"
     ]
    },
    {
     "data": {
      "text/plain": [
       "AgentRunResult(output=DiscoverMapTask(task_description='Discover the map to search for resources.'))"
      ]
     },
     "execution_count": 30,
     "metadata": {},
     "output_type": "execute_result"
    }
   ],
   "execution_count": 30
  },
  {
   "cell_type": "markdown",
   "id": "e7f2800b-7f70-4583-bbee-8b6ec28241df",
   "metadata": {},
   "source": [
    "### Event"
   ]
  },
  {
   "cell_type": "code",
   "id": "79c0f8f4-b272-432a-ba98-657e55020d1d",
   "metadata": {
    "ExecuteTime": {
     "end_time": "2025-06-02T10:00:51.625681Z",
     "start_time": "2025-06-02T10:00:48.935911Z"
    }
   },
   "source": [
    "c.allow_collect_items()\n",
    "c.player.store = ['c','w'] * 1\n",
    "o = OrchestratorAgent()\n",
    "mission_text =  \"\"\"Collect food\"\"\"\n",
    "o.agent.run_sync(mission_text, \n",
    "        deps = WinCondition(\n",
    "            wood_need=4,\n",
    "            cotton_need=0,\n",
    "            player= c.player))"
   ],
   "outputs": [
    {
     "name": "stdout",
     "output_type": "stream",
     "text": [
      "Validate task: task_description='Discover the map to find resources.'\n"
     ]
    },
    {
     "data": {
      "text/plain": [
       "AgentRunResult(output=DiscoverMapTask(task_description='Discover the map to find resources.'))"
      ]
     },
     "execution_count": 32,
     "metadata": {},
     "output_type": "execute_result"
    }
   ],
   "execution_count": 32
  },
  {
   "cell_type": "code",
   "id": "7f127ad0-74c9-4470-be7e-00e420eea3a6",
   "metadata": {
    "ExecuteTime": {
     "end_time": "2025-06-02T10:00:57.009205Z",
     "start_time": "2025-06-02T10:00:55.342390Z"
    }
   },
   "source": [
    "c.allow_collect_items()\n",
    "c.player.store = ['c','w'] * 1\n",
    "o = OrchestratorAgent()\n",
    "mission_text =  \"\"\"Which resource I should collect?\"\"\"\n",
    "o.agent.run_sync(mission_text, \n",
    "        deps = WinCondition(\n",
    "            wood_need=4,\n",
    "            cotton_need=5,\n",
    "            player= c.player))"
   ],
   "outputs": [
    {
     "name": "stdout",
     "output_type": "stream",
     "text": [
      "Validate task: task_description='Calculate the resources needed to win' explain='We need to collect the necessary resources to win the game.' wood_need=3 cotton_need=4\n"
     ]
    },
    {
     "data": {
      "text/plain": [
       "AgentRunResult(output=CalCulateWinConditionTask(task_description='Calculate the resources needed to win', explain='We need to collect the necessary resources to win the game.', wood_need=3, cotton_need=4))"
      ]
     },
     "execution_count": 33,
     "metadata": {},
     "output_type": "execute_result"
    }
   ],
   "execution_count": 33
  },
  {
   "cell_type": "code",
   "id": "74312c06-966f-4ab4-9a91-621655a68385",
   "metadata": {
    "ExecuteTime": {
     "end_time": "2025-06-02T10:00:24.347201Z",
     "start_time": "2025-06-02T10:00:22.380420Z"
    }
   },
   "source": [
    "c.allow_collect_items()\n",
    "c.player.store = ['c','w'] * 1\n",
    "o = OrchestratorAgent()\n",
    "mission_text =  \"\"\"Go to the cell at (10, 18) to obtain one unit of fabric.\"\"\"\n",
    "o.agent.run_sync(mission_text, \n",
    "        deps = WinCondition(\n",
    "            wood_need=4,\n",
    "            cotton_need=0,\n",
    "            player= c.player))"
   ],
   "outputs": [
    {
     "name": "stdout",
     "output_type": "stream",
     "text": [
      "Validate task: task_description='Go to the cell at (10, 18) to obtain one unit of fabric.'\n"
     ]
    },
    {
     "data": {
      "text/plain": [
       "AgentRunResult(output=GoHomeTask(task_description='Go to the cell at (10, 18) to obtain one unit of fabric.'))"
      ]
     },
     "execution_count": 31,
     "metadata": {},
     "output_type": "execute_result"
    }
   ],
   "execution_count": 31
  },
  {
   "cell_type": "markdown",
   "id": "b39696b4-49f0-44f8-9764-1ed4dbb9f54a",
   "metadata": {},
   "source": [
    "## Player Agent"
   ]
  },
  {
   "cell_type": "code",
   "id": "62a65f30-aaae-4e9d-8f97-f6a331f3d6af",
   "metadata": {
    "ExecuteTime": {
     "end_time": "2025-06-02T09:50:21.538589Z",
     "start_time": "2025-06-02T09:50:21.520039Z"
    }
   },
   "source": [
    "class FindContext(BaseModel):\n",
    "    player: Player\n",
    "    model_config = ConfigDict(arbitrary_types_allowed=True)\n",
    "\n",
    "class Position(BaseModel):\n",
    "    row: int\n",
    "    col: int\n",
    "    \n",
    "class ResourcePositions(BaseModel):\n",
    "    positions: list[Position]\n",
    "    explain: str\n",
    "\n",
    "class FoodPositions(BaseModel):\n",
    "    positions: list[Position]\n",
    "    explain: str\n",
    "\n",
    "class WoodPositions(BaseModel):\n",
    "    positions: list[Position]\n",
    "    explain: str\n",
    "\n",
    "class CottonPositions(BaseModel):\n",
    "    positions: list[Position]\n",
    "    explain: str\n",
    "\n",
    "class MapExplorer(BaseModel):\n",
    "    positions: list[Position]\n",
    "    explain: str\n",
    "\n",
    "     \n",
    "class Path(BaseModel):\n",
    "    directions: list[int]\n",
    "    explain: str"
   ],
   "outputs": [],
   "execution_count": 17
  },
  {
   "cell_type": "code",
   "id": "7e3e35f9-e072-4ace-986c-98eb6dbb64d1",
   "metadata": {
    "ExecuteTime": {
     "end_time": "2025-06-02T10:01:18.852482Z",
     "start_time": "2025-06-02T10:01:18.826771Z"
    }
   },
   "source": [
    "@dataclass\n",
    "class PlayGameAgent:\n",
    "    prompting_for_finding_resource = \"\"\"\n",
    "\n",
    "You are tasked with locating resources on the map defined in World Representation.\n",
    "Return a list of all cells that contain a resource food, wood, or cotton where each is denoted by:\n",
    "\n",
    "‘f’ for food\n",
    "\n",
    "‘w’ for wood\n",
    "\n",
    "‘c’ for cotton\n",
    "\n",
    "'-1' for discover map\n",
    "\n",
    "if No wood resources found you should return MapExlorer\n",
    "    \n",
    "\"\"\"\n",
    "    config = Config()\n",
    "    agent = Agent(\n",
    "            f'openai:{config.LLM_MODEL}',\n",
    "            output_type= FoodPositions | WoodPositions | CottonPositions | MapExplorer|  Path,\n",
    "            system_prompt= prompting_for_finding_resource,\n",
    "            deps_type=FindContext\n",
    "        ) \n",
    "\n",
    "    @agent.tool\n",
    "    def map_expolorer(ctx: RunContext[FindContext]) -> list:\n",
    "        \"\"\"Find -1 cells\"\"\"\n",
    "\n",
    "        row = ctx.deps.player.row\n",
    "        col = ctx.deps.player.col\n",
    "        \n",
    "        return find_resource(ctx.deps.player.grid[row-1: row+1,col-1:col+1],  -1)\n",
    "        \n",
    "    @agent.tool\n",
    "    def find_food(ctx: RunContext[FindContext]) -> list:\n",
    "        \"\"\"Find food cells\"\"\"\n",
    "        \n",
    "        return find_resource(ctx.deps.player.grid, 'f')\n",
    "        \n",
    "    \n",
    "    @agent.tool\n",
    "    def find_wood(ctx: RunContext[FindContext]) -> list:\n",
    "        \"\"\"Find wood cells\"\"\"\n",
    "        \n",
    "        return find_resource(ctx.deps.player.grid, 'w')\n",
    "    \n",
    "    @agent.tool\n",
    "    def find_cotton(ctx: RunContext[FindContext]) -> list:\n",
    "        \"\"\"Find wood cells\"\"\"\n",
    "        \n",
    "        return find_resource(ctx.deps.player.grid, 'c')\n",
    "        \n",
    "    @agent.tool\n",
    "    def find_shortest_path(ctx: RunContext[FindContext], resource_positions: list[Position]) -> list:\n",
    "        \"\"\"Find shortest path\"\"\"\n",
    "    \n",
    "        grid = ctx.deps.player.grid\n",
    "        \n",
    "        positions = resource_positions\n",
    "            \n",
    "        grid_tmp = np.copy(ctx.deps.player.grid)\n",
    "    \n",
    "        \n",
    "        if len(positions)==0:\n",
    "            return None # None mean agent don't see resource\n",
    "            \n",
    "        # peusdo code\n",
    "        sorttest = [1,1,1,1]\n",
    "        \n",
    "        return sorttest\n",
    "                    "
   ],
   "outputs": [],
   "execution_count": 36
  },
  {
   "cell_type": "markdown",
   "id": "d39faf21-f088-4320-bd38-d95f8e0cd522",
   "metadata": {},
   "source": [
    "## Test PlayGameAgent"
   ]
  },
  {
   "cell_type": "code",
   "id": "1b9d3c5f-04fc-4491-9035-5cfd659899c2",
   "metadata": {
    "ExecuteTime": {
     "end_time": "2025-06-02T10:01:22.429253Z",
     "start_time": "2025-06-02T10:01:22.417790Z"
    }
   },
   "source": [
    "play_game_agent = PlayGameAgent()"
   ],
   "outputs": [],
   "execution_count": 37
  },
  {
   "cell_type": "code",
   "id": "7948056d-ebd3-487d-879f-370c52841f4b",
   "metadata": {
    "ExecuteTime": {
     "end_time": "2025-06-02T10:01:30.050883Z",
     "start_time": "2025-06-02T10:01:23.896089Z"
    }
   },
   "source": [
    "player = c.get_player()\n",
    "play_game_agent.agent.run_sync(\n",
    "    'find wood',\n",
    "    deps=FindContext(\n",
    "        player= player\n",
    "    )\n",
    ")"
   ],
   "outputs": [
    {
     "data": {
      "text/plain": [
       "AgentRunResult(output=MapExplorer(positions=[], explain='No wood resources found, showing the map explorer.'))"
      ]
     },
     "execution_count": 38,
     "metadata": {},
     "output_type": "execute_result"
    }
   ],
   "execution_count": 38
  },
  {
   "cell_type": "code",
   "id": "5e92312d-5be4-4c08-8780-7c48db2c6acd",
   "metadata": {
    "ExecuteTime": {
     "end_time": "2025-06-02T10:01:36.752449Z",
     "start_time": "2025-06-02T10:01:33.588551Z"
    }
   },
   "source": [
    "player = c.get_player()\n",
    "play_game_agent.agent.run_sync(\n",
    "    'Find shortest path to collect wood only',\n",
    "    deps=FindContext(\n",
    "        player= player\n",
    "    )\n",
    ")"
   ],
   "outputs": [
    {
     "data": {
      "text/plain": [
       "AgentRunResult(output=MapExplorer(positions=[], explain='No wood resources found.'))"
      ]
     },
     "execution_count": 39,
     "metadata": {},
     "output_type": "execute_result"
    }
   ],
   "execution_count": 39
  },
  {
   "cell_type": "markdown",
   "id": "473a5687-c098-4a0a-b2c4-0eb5d6c21989",
   "metadata": {},
   "source": [
    "# Game Client"
   ]
  },
  {
   "cell_type": "code",
   "id": "6fd56ca5-1582-4740-adb5-2b10aef10e27",
   "metadata": {
    "ExecuteTime": {
     "end_time": "2025-06-02T10:01:40.129128Z",
     "start_time": "2025-06-02T10:01:40.111078Z"
    }
   },
   "source": [
    "from dataclasses import dataclass\n",
    "from rich.prompt import Prompt\n",
    "from pydantic_graph import BaseNode, End, Graph, GraphRunContext\n",
    "from __future__ import annotations\n",
    "import time\n",
    "from mermaid import Mermaid\n",
    "\n",
    "from client import Client\n",
    "\n",
    "config: Config = Config()\n",
    "\n",
    "class GameClient(Client):\n",
    "    def __init__(self):\n",
    "        \n",
    "        super().__init__()\n",
    "\n",
    "        self.task: str = ''\n",
    "        self.messages: list[str] = []\n",
    "\n",
    "        self.usage = Usage()\n",
    "\n",
    "        self.orchestrator_agent = OrchestratorAgent()\n",
    "\n",
    "        self.play_game_agent = PlayGameAgent()\n",
    "        \n",
    "        \n",
    "    def print_usage(self):\n",
    "        \n",
    "        print(\"Prompt tokens:\", self.usage.request_tokens)\n",
    "        print(\"Response tokens:\", self.usage.response_tokens)\n",
    "        print(\"Total tokens:\", self.usage.total_tokens)\n",
    "\n",
    "    def find_shortest_path_to(self, row, col):\n",
    "        player = self.get_player()\n",
    "        path = shortest_path((self.player.row, self.player.col),\n",
    "                     (row, col),\n",
    "                     self.player.grid)\n",
    "        return path\n",
    "    \n",
    "    def go_step_by_step(self, path: list[int]):\n",
    "        for direction in path:\n",
    "            self.move(direction)\n",
    "            time.sleep(1)\n",
    "        \n",
    "    def go_home(self):\n",
    "        player = self.get_player()\n",
    "        home_path = self.find_shortest_path_to(self.player.home_row, self.player.home_col)\n",
    "        self.go_step_by_step(home_path)\n",
    "\n",
    "        "
   ],
   "outputs": [],
   "execution_count": 40
  },
  {
   "cell_type": "markdown",
   "id": "908e795c-18da-478c-b98e-32e7e305e994",
   "metadata": {},
   "source": [
    "# Build Graph"
   ]
  },
  {
   "cell_type": "markdown",
   "id": "81481a2c-1d69-41a4-9df6-96f2312d411e",
   "metadata": {},
   "source": [
    "## Define Graph State"
   ]
  },
  {
   "cell_type": "code",
   "id": "0e3e7663-136f-45c1-ba69-b3b1c413b7dc",
   "metadata": {
    "ExecuteTime": {
     "end_time": "2025-06-02T10:01:44.180175Z",
     "start_time": "2025-06-02T10:01:44.173330Z"
    }
   },
   "source": [
    "@dataclass\n",
    "class GameState:  \n",
    "    client: GameClient\n",
    "    name: str\n",
    "    food_need: int \n",
    "    fabric_need: int"
   ],
   "outputs": [],
   "execution_count": 41
  },
  {
   "cell_type": "markdown",
   "id": "ea238c35-e460-43b0-b9c5-5263021300da",
   "metadata": {},
   "source": [
    "## Define nodes"
   ]
  },
  {
   "cell_type": "markdown",
   "id": "f8802cd5-6141-4b7b-b66c-1a767bb280ec",
   "metadata": {},
   "source": [
    "### Create Game Node"
   ]
  },
  {
   "cell_type": "code",
   "id": "2bcd10c2-7a50-4b59-8d41-15d22c1038f7",
   "metadata": {
    "ExecuteTime": {
     "end_time": "2025-06-02T10:01:46.169347Z",
     "start_time": "2025-06-02T10:01:46.158921Z"
    }
   },
   "source": [
    "@dataclass\n",
    "class CreateGame(BaseNode[GameState]):  \n",
    "    async def run(self, ctx: GraphRunContext[GameState]) -> TakeMission:\n",
    "        return TakeMission()"
   ],
   "outputs": [],
   "execution_count": 42
  },
  {
   "cell_type": "markdown",
   "id": "0a6411ee-fe45-48d0-a838-92a8b8bfcf3d",
   "metadata": {},
   "source": [
    "### Take on the mission"
   ]
  },
  {
   "cell_type": "code",
   "id": "05d62721-7cb9-46e8-bc14-5dd0e5d5cfcd",
   "metadata": {
    "ExecuteTime": {
     "end_time": "2025-06-02T10:01:48.365779Z",
     "start_time": "2025-06-02T10:01:48.357861Z"
    }
   },
   "source": [
    "@dataclass\n",
    "class TakeMission(BaseNode[GameState]):\n",
    "    async def run(self, ctx: GraphRunContext[GameState]) -> WaitingStartGame:\n",
    "        \n",
    "        # Store mission to context\n",
    "\n",
    "        client = ctx.state.client \n",
    "        \n",
    "        player = client.get_player()\n",
    "        while not player.message:\n",
    "            time.sleep(1)\n",
    "            player = client.get_player()\n",
    "\n",
    "        client.messages.append(player.message)\n",
    "\n",
    "        result = client.orchestrator_agent.agent.run_sync(\n",
    "            \"Parse this message to get the resource need: \" + player.message,\n",
    "            deps = WinCondition(\n",
    "                wood_need=0,\n",
    "                cotton_need=0,\n",
    "                player= player\n",
    "            )\n",
    "        )\n",
    "\n",
    "        print(result.output)\n",
    "\n",
    "        ctx.state.wood_need = result.output.wood_need\n",
    "        ctx.state.cotton_need = result.output.cotton_need\n",
    "\n",
    "        print(f'{ctx.state=}')\n",
    "\n",
    "        return WaitingStartGame()\n",
    "        \n",
    "        "
   ],
   "outputs": [],
   "execution_count": 43
  },
  {
   "cell_type": "markdown",
   "id": "29939e45-86ab-4616-b980-3fefab87d4e3",
   "metadata": {},
   "source": [
    "### Waiting Start Game"
   ]
  },
  {
   "cell_type": "code",
   "id": "b32b5863-1c78-4634-8485-e28351eb921f",
   "metadata": {
    "ExecuteTime": {
     "end_time": "2025-06-02T10:01:50.738887Z",
     "start_time": "2025-06-02T10:01:50.727809Z"
    }
   },
   "source": [
    "@dataclass\n",
    "class WaitingStartGame(BaseNode[GameState]):\n",
    "    async def run(self, ctx: GraphRunContext[GameState]) -> IdentifyTask | End:\n",
    "        \n",
    "        msg = 'Waiting start game'\n",
    "        client = ctx.state.client \n",
    "        while True:\n",
    "            player = client.get_player()\n",
    "            msg += '.'\n",
    "            print(msg)\n",
    "            if player.status.value == 'playing':\n",
    "                break\n",
    "            time.sleep(1)\n",
    "\n",
    "        print('Game started. New Identity task to do')\n",
    "                \n",
    "        return IdentifyTask()"
   ],
   "outputs": [],
   "execution_count": 44
  },
  {
   "cell_type": "markdown",
   "id": "5251fd06-dcda-4827-bb28-e6a1af99215b",
   "metadata": {},
   "source": [
    "### Identify the tasks to complete"
   ]
  },
  {
   "cell_type": "code",
   "id": "5c0e1844-53e9-48a0-b5da-276653caef96",
   "metadata": {
    "ExecuteTime": {
     "end_time": "2025-06-02T10:01:53.549424Z",
     "start_time": "2025-06-02T10:01:53.539749Z"
    }
   },
   "source": [
    "@dataclass\n",
    "class IdentifyTask(BaseNode[GameState]):\n",
    "    async def run(self, ctx: GraphRunContext[GameState]) -> ExecuteTask | End:\n",
    "\n",
    "        client = ctx.state.client \n",
    "        player = client.get_player()\n",
    "\n",
    "        # Check new message \n",
    "        message = player.message\n",
    "\n",
    "        if message not in client.messages:\n",
    "            client.messages.append(player.message)\n",
    "            result = client.orchestrator_agent.agent.run_sync(\n",
    "                \"Base on this message suggest what task name I sould to do: Message\" + player.message,\n",
    "                deps = WinCondition(\n",
    "                    wood_need= ctx.state.wood_need,\n",
    "                    cotton_need=ctx.state.cotton_need,\n",
    "                    player= player\n",
    "                )\n",
    "            )\n",
    "        else:\n",
    "            result = client.orchestrator_agent.agent.run_sync(\n",
    "                \"What is my next task. Do not suggest CalCulateWinConditionTask\",\n",
    "                deps = WinCondition(\n",
    "                    wood_need= ctx.state.wood_need,\n",
    "                    cotton_need=ctx.state.cotton_need,\n",
    "                    player= player\n",
    "                )\n",
    "            )\n",
    "\n",
    "        print(result)\n",
    "\n",
    "        return ExecuteTask(result.output)\n",
    "        # return End(None)"
   ],
   "outputs": [],
   "execution_count": 45
  },
  {
   "cell_type": "markdown",
   "id": "fe96bb68-3c73-4797-befa-e50527aff468",
   "metadata": {},
   "source": [
    "### Execute Task"
   ]
  },
  {
   "cell_type": "code",
   "id": "8d34b45b-cd3b-45ff-88fe-4dde03d05c12",
   "metadata": {
    "ExecuteTime": {
     "end_time": "2025-06-02T10:01:55.892960Z",
     "start_time": "2025-06-02T10:01:55.884995Z"
    }
   },
   "source": [
    "@dataclass\n",
    "class ExecuteTask(BaseNode[GameState]):\n",
    "    task: Task\n",
    "    async def run(self, ctx: GraphRunContext[GameState]) -> IdentifyTask:\n",
    "        if isinstance(self.task, CollectWoodTask):\n",
    "            \n",
    "            client = ctx.state.client \n",
    "\n",
    "            player = client.get_player()\n",
    "\n",
    "            client.allow_collect_items()\n",
    "\n",
    "            result = client.play_game_agent.agent.run_sync(\n",
    "                 f'Find shortest path go to get wood.',\n",
    "                usage=ctx.state.client.usage,\n",
    "                deps=FindContext(player=player)\n",
    "            )\n",
    "            \n",
    "        \n",
    "            if isinstance(result.output, Path) and  len(result.output.directions) > 0:\n",
    "                ctx.state.client.go_step_by_step(result.output.directions)\n",
    "                ctx.state.client.go_home()\n",
    "                return IdentifyTask()\n",
    "        \n",
    "        # To Do:\n",
    "\n",
    "        print('Just for test: processing task. It takes about 10 seconds....')\n",
    "        time.sleep(10)\n",
    "        print('Identify next task')\n",
    "\n",
    "        return IdentifyTask()\n"
   ],
   "outputs": [],
   "execution_count": 46
  },
  {
   "cell_type": "markdown",
   "id": "5107fcca-ddc8-450f-bf8c-b7ff03828b8d",
   "metadata": {},
   "source": [
    "# Test"
   ]
  },
  {
   "cell_type": "code",
   "id": "d522f36e-8852-42b3-8099-a0594dd841ee",
   "metadata": {
    "ExecuteTime": {
     "end_time": "2025-06-02T10:02:01.376856Z",
     "start_time": "2025-06-02T10:02:01.367693Z"
    }
   },
   "source": [
    "game_graph = Graph(\n",
    "    nodes=[CreateGame, TakeMission, WaitingStartGame, IdentifyTask, ExecuteTask]\n",
    ")\n"
   ],
   "outputs": [],
   "execution_count": 47
  },
  {
   "cell_type": "code",
   "id": "f9b2c255-8681-4095-8b2c-119b5b5953ac",
   "metadata": {
    "ExecuteTime": {
     "end_time": "2025-06-02T10:02:03.940732Z",
     "start_time": "2025-06-02T10:02:03.931210Z"
    }
   },
   "source": [
    "Mermaid(game_graph.mermaid_code(start_node=CreateGame))"
   ],
   "outputs": [
    {
     "data": {
      "text/plain": [
       "<mermaid.mermaid.Mermaid at 0x2793982a480>"
      ],
      "text/html": [
       "\n",
       "        <div class=\"mermaid-8490557d-0ad8-4aa0-a984-1d4c961cb7d8\"></div>\n",
       "        <script type=\"module\">\n",
       "            import mermaid from 'https://cdn.jsdelivr.net/npm/mermaid@10.1.0/+esm'\n",
       "            const graphDefinition = '---\\ntitle: game_graph\\n---\\nstateDiagram-v2\\n  [*] --> CreateGame\\n  CreateGame --> TakeMission\\n  TakeMission --> WaitingStartGame\\n  WaitingStartGame --> IdentifyTask\\n  WaitingStartGame --> [*]\\n  IdentifyTask --> ExecuteTask\\n  IdentifyTask --> [*]\\n  ExecuteTask --> IdentifyTask';\n",
       "            const element = document.querySelector('.mermaid-8490557d-0ad8-4aa0-a984-1d4c961cb7d8');\n",
       "            const { svg } = await mermaid.render('graphDiv-8490557d-0ad8-4aa0-a984-1d4c961cb7d8', graphDefinition);\n",
       "            element.innerHTML = svg;\n",
       "        </script>\n",
       "        "
      ]
     },
     "execution_count": 48,
     "metadata": {},
     "output_type": "execute_result"
    }
   ],
   "execution_count": 48
  },
  {
   "cell_type": "code",
   "id": "311b935e-6ad9-48c6-951c-fd54719749ad",
   "metadata": {
    "scrolled": true,
    "ExecuteTime": {
     "end_time": "2025-06-02T10:05:45.428465Z",
     "start_time": "2025-06-02T10:05:45.351727Z"
    }
   },
   "source": [
    "async def create_client_game(game_client):\n",
    "    state = GameState(\n",
    "        client= game_client, \n",
    "        name= name,\n",
    "        food_need=0, \n",
    "        fabric_need=0\n",
    "    )  \n",
    "    await game_graph.run(CreateGame(), state=state) \n",
    "\n",
    "import asyncio\n",
    "import nest_asyncio\n",
    "nest_asyncio.apply()\n",
    "\n",
    "agent_id = 2\n",
    "name = f'Agent {agent_id:02d}'\n",
    "\n",
    "game_client = GameClient()\n",
    "game_client.set_player_name(\"Huhu\")\n",
    "\n",
    "asyncio.run(create_client_game(game_client))"
   ],
   "outputs": [
    {
     "data": {
      "text/plain": [
       "\u001B[2;36m[17:05:45]\u001B[0m\u001B[2;36m \u001B[0m\u001B[1;35m[\u001B[0m\u001B[1;35mCLIENT\u001B[0m\u001B[1;35m]\u001B[0m Listern to \u001B[1;92m0.0.0.0\u001B[0m:\u001B[1;36m54712\u001B[0m                                                             \u001B[2mlogs.py\u001B[0m\u001B[2m:\u001B[0m\u001B[2m11\u001B[0m\n"
      ],
      "text/html": [
       "<pre style=\"white-space:pre;overflow-x:auto;line-height:normal;font-family:Menlo,'DejaVu Sans Mono',consolas,'Courier New',monospace\"><span style=\"color: #7fbfbf; text-decoration-color: #7fbfbf\">[17:05:45] </span><span style=\"color: #800080; text-decoration-color: #800080; font-weight: bold\">[CLIENT]</span> Listern to <span style=\"color: #00ff00; text-decoration-color: #00ff00; font-weight: bold\">0.0.0.0</span>:<span style=\"color: #008080; text-decoration-color: #008080; font-weight: bold\">54712</span>                                                             <span style=\"color: #7f7f7f; text-decoration-color: #7f7f7f\">logs.py:11</span>\n",
       "</pre>\n"
      ]
     },
     "metadata": {},
     "output_type": "display_data"
    },
    {
     "ename": "OSError",
     "evalue": "[WinError 10049] The requested address is not valid in its context",
     "output_type": "error",
     "traceback": [
      "\u001B[31m---------------------------------------------------------------------------\u001B[39m",
      "\u001B[31mOSError\u001B[39m                                   Traceback (most recent call last)",
      "\u001B[36mCell\u001B[39m\u001B[36m \u001B[39m\u001B[32mIn[54]\u001B[39m\u001B[32m, line 17\u001B[39m\n\u001B[32m     14\u001B[39m agent_id = \u001B[32m2\u001B[39m\n\u001B[32m     15\u001B[39m name = \u001B[33mf\u001B[39m\u001B[33m'\u001B[39m\u001B[33mAgent \u001B[39m\u001B[38;5;132;01m{\u001B[39;00magent_id\u001B[38;5;132;01m:\u001B[39;00m\u001B[33m02d\u001B[39m\u001B[38;5;132;01m}\u001B[39;00m\u001B[33m'\u001B[39m\n\u001B[32m---> \u001B[39m\u001B[32m17\u001B[39m game_client = \u001B[43mGameClient\u001B[49m\u001B[43m(\u001B[49m\u001B[43m)\u001B[49m\n\u001B[32m     18\u001B[39m game_client.set_player_name(\u001B[33m\"\u001B[39m\u001B[33mHuhu\u001B[39m\u001B[33m\"\u001B[39m)\n\u001B[32m     20\u001B[39m asyncio.run(create_client_game(game_client))\n",
      "\u001B[36mCell\u001B[39m\u001B[36m \u001B[39m\u001B[32mIn[40]\u001B[39m\u001B[32m, line 15\u001B[39m, in \u001B[36mGameClient.__init__\u001B[39m\u001B[34m(self)\u001B[39m\n\u001B[32m     13\u001B[39m \u001B[38;5;28;01mdef\u001B[39;00m\u001B[38;5;250m \u001B[39m\u001B[34m__init__\u001B[39m(\u001B[38;5;28mself\u001B[39m):\n\u001B[32m---> \u001B[39m\u001B[32m15\u001B[39m     \u001B[38;5;28;43msuper\u001B[39;49m\u001B[43m(\u001B[49m\u001B[43m)\u001B[49m\u001B[43m.\u001B[49m\u001B[34;43m__init__\u001B[39;49m\u001B[43m(\u001B[49m\u001B[43m)\u001B[49m\n\u001B[32m     17\u001B[39m     \u001B[38;5;28mself\u001B[39m.task: \u001B[38;5;28mstr\u001B[39m = \u001B[33m'\u001B[39m\u001B[33m'\u001B[39m\n\u001B[32m     18\u001B[39m     \u001B[38;5;28mself\u001B[39m.messages: \u001B[38;5;28mlist\u001B[39m[\u001B[38;5;28mstr\u001B[39m] = []\n",
      "\u001B[36mFile \u001B[39m\u001B[32mD:\\AI Agent\\Rules of Survaival\\client.py:24\u001B[39m, in \u001B[36mClient.__init__\u001B[39m\u001B[34m(self, host, port)\u001B[39m\n\u001B[32m     21\u001B[39m log(\u001B[33mf\u001B[39m\u001B[33m'\u001B[39m\u001B[33mListern to \u001B[39m\u001B[38;5;132;01m{\u001B[39;00m\u001B[38;5;28mself\u001B[39m.host\u001B[38;5;132;01m}\u001B[39;00m\u001B[33m:\u001B[39m\u001B[38;5;132;01m{\u001B[39;00m\u001B[38;5;28mself\u001B[39m.port\u001B[38;5;132;01m}\u001B[39;00m\u001B[33m'\u001B[39m, \u001B[33m'\u001B[39m\u001B[33m[CLIENT]\u001B[39m\u001B[33m'\u001B[39m)\n\u001B[32m     23\u001B[39m \u001B[38;5;28mself\u001B[39m.client_socket = socket.socket(socket.AF_INET, socket.SOCK_STREAM)\n\u001B[32m---> \u001B[39m\u001B[32m24\u001B[39m \u001B[38;5;28;43mself\u001B[39;49m\u001B[43m.\u001B[49m\u001B[43mclient_socket\u001B[49m\u001B[43m.\u001B[49m\u001B[43mconnect\u001B[49m\u001B[43m(\u001B[49m\u001B[43m(\u001B[49m\u001B[38;5;28;43mself\u001B[39;49m\u001B[43m.\u001B[49m\u001B[43mhost\u001B[49m\u001B[43m,\u001B[49m\u001B[43m \u001B[49m\u001B[38;5;28;43mself\u001B[39;49m\u001B[43m.\u001B[49m\u001B[43mport\u001B[49m\u001B[43m)\u001B[49m\u001B[43m)\u001B[49m\n\u001B[32m     25\u001B[39m \u001B[38;5;28mself\u001B[39m.player = \u001B[38;5;28mself\u001B[39m.receive_message()\n\u001B[32m     26\u001B[39m log(\u001B[33mf\u001B[39m\u001B[33m\"\u001B[39m\u001B[33mReceive client from server: \u001B[39m\u001B[38;5;132;01m{\u001B[39;00m\u001B[38;5;28mself\u001B[39m.player\u001B[38;5;132;01m}\u001B[39;00m\u001B[33m\"\u001B[39m, \u001B[33m'\u001B[39m\u001B[33m[CLIENT]\u001B[39m\u001B[33m'\u001B[39m)\n",
      "\u001B[31mOSError\u001B[39m: [WinError 10049] The requested address is not valid in its context"
     ]
    }
   ],
   "execution_count": 54
  }
 ],
 "metadata": {
  "kernelspec": {
   "display_name": "Python 3 (ipykernel)",
   "language": "python",
   "name": "python3"
  },
  "language_info": {
   "codemirror_mode": {
    "name": "ipython",
    "version": 3
   },
   "file_extension": ".py",
   "mimetype": "text/x-python",
   "name": "python",
   "nbconvert_exporter": "python",
   "pygments_lexer": "ipython3",
   "version": "3.13.3"
  }
 },
 "nbformat": 4,
 "nbformat_minor": 5
}
